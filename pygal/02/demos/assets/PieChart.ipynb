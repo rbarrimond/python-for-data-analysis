{
 "cells": [
  {
   "cell_type": "markdown",
   "metadata": {},
   "source": [
    "### Visualization using Pie Chart "
   ]
  },
  {
   "cell_type": "markdown",
   "metadata": {},
   "source": [
    "Import the required packages. "
   ]
  },
  {
   "cell_type": "code",
   "execution_count": 32,
   "metadata": {
    "collapsed": true
   },
   "outputs": [],
   "source": [
    "import pygal\n",
    "import pandas as pd"
   ]
  },
  {
   "cell_type": "markdown",
   "metadata": {},
   "source": [
    "Read the csv file using pandas. Wine dataset is used here."
   ]
  },
  {
   "cell_type": "code",
   "execution_count": 33,
   "metadata": {
    "collapsed": true
   },
   "outputs": [],
   "source": [
    "wine_dataframe = pd.read_csv('./datasets/winequality-red.csv', \n",
    "                             sep=';')"
   ]
  },
  {
   "cell_type": "markdown",
   "metadata": {},
   "source": [
    "Inspect the dataset. The first few rows are printed and summary is printed using describe(). The focus here is on the quality of the wines and their number. The quality of wine is categorized into \"Below Average\", \"Average\", \"Good\". \n",
    "\n",
    "** The Categorization is as follows ** - \n",
    "-  Wine that has quality ** rating 8 and greater ** would be considered as **\"Good\"**. \n",
    "-  Wine that has quality **rating 5 and till 7 ** would be considered as **\"Average\"**.\n",
    "-  Wine that has quality **rating 4 and below ** would be considered as **\"Below Average\"**.\n",
    "\n",
    "All this would be plotted on a Pie Chart "
   ]
  },
  {
   "cell_type": "code",
   "execution_count": 34,
   "metadata": {},
   "outputs": [
    {
     "data": {
      "text/html": [
       "<div>\n",
       "<style scoped>\n",
       "    .dataframe tbody tr th:only-of-type {\n",
       "        vertical-align: middle;\n",
       "    }\n",
       "\n",
       "    .dataframe tbody tr th {\n",
       "        vertical-align: top;\n",
       "    }\n",
       "\n",
       "    .dataframe thead th {\n",
       "        text-align: right;\n",
       "    }\n",
       "</style>\n",
       "<table border=\"1\" class=\"dataframe\">\n",
       "  <thead>\n",
       "    <tr style=\"text-align: right;\">\n",
       "      <th></th>\n",
       "      <th>fixed acidity</th>\n",
       "      <th>volatile acidity</th>\n",
       "      <th>citric acid</th>\n",
       "      <th>residual sugar</th>\n",
       "      <th>chlorides</th>\n",
       "      <th>free sulfur dioxide</th>\n",
       "      <th>total sulfur dioxide</th>\n",
       "      <th>density</th>\n",
       "      <th>pH</th>\n",
       "      <th>sulphates</th>\n",
       "      <th>alcohol</th>\n",
       "      <th>quality</th>\n",
       "    </tr>\n",
       "  </thead>\n",
       "  <tbody>\n",
       "    <tr>\n",
       "      <th>0</th>\n",
       "      <td>7.4</td>\n",
       "      <td>0.70</td>\n",
       "      <td>0.00</td>\n",
       "      <td>1.9</td>\n",
       "      <td>0.076</td>\n",
       "      <td>11.0</td>\n",
       "      <td>34.0</td>\n",
       "      <td>0.9978</td>\n",
       "      <td>3.51</td>\n",
       "      <td>0.56</td>\n",
       "      <td>9.4</td>\n",
       "      <td>5</td>\n",
       "    </tr>\n",
       "    <tr>\n",
       "      <th>1</th>\n",
       "      <td>7.8</td>\n",
       "      <td>0.88</td>\n",
       "      <td>0.00</td>\n",
       "      <td>2.6</td>\n",
       "      <td>0.098</td>\n",
       "      <td>25.0</td>\n",
       "      <td>67.0</td>\n",
       "      <td>0.9968</td>\n",
       "      <td>3.20</td>\n",
       "      <td>0.68</td>\n",
       "      <td>9.8</td>\n",
       "      <td>5</td>\n",
       "    </tr>\n",
       "    <tr>\n",
       "      <th>2</th>\n",
       "      <td>7.8</td>\n",
       "      <td>0.76</td>\n",
       "      <td>0.04</td>\n",
       "      <td>2.3</td>\n",
       "      <td>0.092</td>\n",
       "      <td>15.0</td>\n",
       "      <td>54.0</td>\n",
       "      <td>0.9970</td>\n",
       "      <td>3.26</td>\n",
       "      <td>0.65</td>\n",
       "      <td>9.8</td>\n",
       "      <td>5</td>\n",
       "    </tr>\n",
       "    <tr>\n",
       "      <th>3</th>\n",
       "      <td>11.2</td>\n",
       "      <td>0.28</td>\n",
       "      <td>0.56</td>\n",
       "      <td>1.9</td>\n",
       "      <td>0.075</td>\n",
       "      <td>17.0</td>\n",
       "      <td>60.0</td>\n",
       "      <td>0.9980</td>\n",
       "      <td>3.16</td>\n",
       "      <td>0.58</td>\n",
       "      <td>9.8</td>\n",
       "      <td>6</td>\n",
       "    </tr>\n",
       "    <tr>\n",
       "      <th>4</th>\n",
       "      <td>7.4</td>\n",
       "      <td>0.70</td>\n",
       "      <td>0.00</td>\n",
       "      <td>1.9</td>\n",
       "      <td>0.076</td>\n",
       "      <td>11.0</td>\n",
       "      <td>34.0</td>\n",
       "      <td>0.9978</td>\n",
       "      <td>3.51</td>\n",
       "      <td>0.56</td>\n",
       "      <td>9.4</td>\n",
       "      <td>5</td>\n",
       "    </tr>\n",
       "  </tbody>\n",
       "</table>\n",
       "</div>"
      ],
      "text/plain": [
       "   fixed acidity  volatile acidity  citric acid  residual sugar  chlorides  \\\n",
       "0            7.4              0.70         0.00             1.9      0.076   \n",
       "1            7.8              0.88         0.00             2.6      0.098   \n",
       "2            7.8              0.76         0.04             2.3      0.092   \n",
       "3           11.2              0.28         0.56             1.9      0.075   \n",
       "4            7.4              0.70         0.00             1.9      0.076   \n",
       "\n",
       "   free sulfur dioxide  total sulfur dioxide  density    pH  sulphates  \\\n",
       "0                 11.0                  34.0   0.9978  3.51       0.56   \n",
       "1                 25.0                  67.0   0.9968  3.20       0.68   \n",
       "2                 15.0                  54.0   0.9970  3.26       0.65   \n",
       "3                 17.0                  60.0   0.9980  3.16       0.58   \n",
       "4                 11.0                  34.0   0.9978  3.51       0.56   \n",
       "\n",
       "   alcohol  quality  \n",
       "0      9.4        5  \n",
       "1      9.8        5  \n",
       "2      9.8        5  \n",
       "3      9.8        6  \n",
       "4      9.4        5  "
      ]
     },
     "execution_count": 34,
     "metadata": {},
     "output_type": "execute_result"
    }
   ],
   "source": [
    "wine_dataframe.head()"
   ]
  },
  {
   "cell_type": "code",
   "execution_count": 35,
   "metadata": {},
   "outputs": [
    {
     "data": {
      "text/html": [
       "<div>\n",
       "<style scoped>\n",
       "    .dataframe tbody tr th:only-of-type {\n",
       "        vertical-align: middle;\n",
       "    }\n",
       "\n",
       "    .dataframe tbody tr th {\n",
       "        vertical-align: top;\n",
       "    }\n",
       "\n",
       "    .dataframe thead th {\n",
       "        text-align: right;\n",
       "    }\n",
       "</style>\n",
       "<table border=\"1\" class=\"dataframe\">\n",
       "  <thead>\n",
       "    <tr style=\"text-align: right;\">\n",
       "      <th></th>\n",
       "      <th>fixed acidity</th>\n",
       "      <th>volatile acidity</th>\n",
       "      <th>citric acid</th>\n",
       "      <th>residual sugar</th>\n",
       "      <th>chlorides</th>\n",
       "      <th>free sulfur dioxide</th>\n",
       "      <th>total sulfur dioxide</th>\n",
       "      <th>density</th>\n",
       "      <th>pH</th>\n",
       "      <th>sulphates</th>\n",
       "      <th>alcohol</th>\n",
       "      <th>quality</th>\n",
       "    </tr>\n",
       "  </thead>\n",
       "  <tbody>\n",
       "    <tr>\n",
       "      <th>count</th>\n",
       "      <td>1599.000000</td>\n",
       "      <td>1599.000000</td>\n",
       "      <td>1599.000000</td>\n",
       "      <td>1599.000000</td>\n",
       "      <td>1599.000000</td>\n",
       "      <td>1599.000000</td>\n",
       "      <td>1599.000000</td>\n",
       "      <td>1599.000000</td>\n",
       "      <td>1599.000000</td>\n",
       "      <td>1599.000000</td>\n",
       "      <td>1599.000000</td>\n",
       "      <td>1599.000000</td>\n",
       "    </tr>\n",
       "    <tr>\n",
       "      <th>mean</th>\n",
       "      <td>8.319637</td>\n",
       "      <td>0.527821</td>\n",
       "      <td>0.270976</td>\n",
       "      <td>2.538806</td>\n",
       "      <td>0.087467</td>\n",
       "      <td>15.874922</td>\n",
       "      <td>46.467792</td>\n",
       "      <td>0.996747</td>\n",
       "      <td>3.311113</td>\n",
       "      <td>0.658149</td>\n",
       "      <td>10.422983</td>\n",
       "      <td>5.636023</td>\n",
       "    </tr>\n",
       "    <tr>\n",
       "      <th>std</th>\n",
       "      <td>1.741096</td>\n",
       "      <td>0.179060</td>\n",
       "      <td>0.194801</td>\n",
       "      <td>1.409928</td>\n",
       "      <td>0.047065</td>\n",
       "      <td>10.460157</td>\n",
       "      <td>32.895324</td>\n",
       "      <td>0.001887</td>\n",
       "      <td>0.154386</td>\n",
       "      <td>0.169507</td>\n",
       "      <td>1.065668</td>\n",
       "      <td>0.807569</td>\n",
       "    </tr>\n",
       "    <tr>\n",
       "      <th>min</th>\n",
       "      <td>4.600000</td>\n",
       "      <td>0.120000</td>\n",
       "      <td>0.000000</td>\n",
       "      <td>0.900000</td>\n",
       "      <td>0.012000</td>\n",
       "      <td>1.000000</td>\n",
       "      <td>6.000000</td>\n",
       "      <td>0.990070</td>\n",
       "      <td>2.740000</td>\n",
       "      <td>0.330000</td>\n",
       "      <td>8.400000</td>\n",
       "      <td>3.000000</td>\n",
       "    </tr>\n",
       "    <tr>\n",
       "      <th>25%</th>\n",
       "      <td>7.100000</td>\n",
       "      <td>0.390000</td>\n",
       "      <td>0.090000</td>\n",
       "      <td>1.900000</td>\n",
       "      <td>0.070000</td>\n",
       "      <td>7.000000</td>\n",
       "      <td>22.000000</td>\n",
       "      <td>0.995600</td>\n",
       "      <td>3.210000</td>\n",
       "      <td>0.550000</td>\n",
       "      <td>9.500000</td>\n",
       "      <td>5.000000</td>\n",
       "    </tr>\n",
       "    <tr>\n",
       "      <th>50%</th>\n",
       "      <td>7.900000</td>\n",
       "      <td>0.520000</td>\n",
       "      <td>0.260000</td>\n",
       "      <td>2.200000</td>\n",
       "      <td>0.079000</td>\n",
       "      <td>14.000000</td>\n",
       "      <td>38.000000</td>\n",
       "      <td>0.996750</td>\n",
       "      <td>3.310000</td>\n",
       "      <td>0.620000</td>\n",
       "      <td>10.200000</td>\n",
       "      <td>6.000000</td>\n",
       "    </tr>\n",
       "    <tr>\n",
       "      <th>75%</th>\n",
       "      <td>9.200000</td>\n",
       "      <td>0.640000</td>\n",
       "      <td>0.420000</td>\n",
       "      <td>2.600000</td>\n",
       "      <td>0.090000</td>\n",
       "      <td>21.000000</td>\n",
       "      <td>62.000000</td>\n",
       "      <td>0.997835</td>\n",
       "      <td>3.400000</td>\n",
       "      <td>0.730000</td>\n",
       "      <td>11.100000</td>\n",
       "      <td>6.000000</td>\n",
       "    </tr>\n",
       "    <tr>\n",
       "      <th>max</th>\n",
       "      <td>15.900000</td>\n",
       "      <td>1.580000</td>\n",
       "      <td>1.000000</td>\n",
       "      <td>15.500000</td>\n",
       "      <td>0.611000</td>\n",
       "      <td>72.000000</td>\n",
       "      <td>289.000000</td>\n",
       "      <td>1.003690</td>\n",
       "      <td>4.010000</td>\n",
       "      <td>2.000000</td>\n",
       "      <td>14.900000</td>\n",
       "      <td>8.000000</td>\n",
       "    </tr>\n",
       "  </tbody>\n",
       "</table>\n",
       "</div>"
      ],
      "text/plain": [
       "       fixed acidity  volatile acidity  citric acid  residual sugar  \\\n",
       "count    1599.000000       1599.000000  1599.000000     1599.000000   \n",
       "mean        8.319637          0.527821     0.270976        2.538806   \n",
       "std         1.741096          0.179060     0.194801        1.409928   \n",
       "min         4.600000          0.120000     0.000000        0.900000   \n",
       "25%         7.100000          0.390000     0.090000        1.900000   \n",
       "50%         7.900000          0.520000     0.260000        2.200000   \n",
       "75%         9.200000          0.640000     0.420000        2.600000   \n",
       "max        15.900000          1.580000     1.000000       15.500000   \n",
       "\n",
       "         chlorides  free sulfur dioxide  total sulfur dioxide      density  \\\n",
       "count  1599.000000          1599.000000           1599.000000  1599.000000   \n",
       "mean      0.087467            15.874922             46.467792     0.996747   \n",
       "std       0.047065            10.460157             32.895324     0.001887   \n",
       "min       0.012000             1.000000              6.000000     0.990070   \n",
       "25%       0.070000             7.000000             22.000000     0.995600   \n",
       "50%       0.079000            14.000000             38.000000     0.996750   \n",
       "75%       0.090000            21.000000             62.000000     0.997835   \n",
       "max       0.611000            72.000000            289.000000     1.003690   \n",
       "\n",
       "                pH    sulphates      alcohol      quality  \n",
       "count  1599.000000  1599.000000  1599.000000  1599.000000  \n",
       "mean      3.311113     0.658149    10.422983     5.636023  \n",
       "std       0.154386     0.169507     1.065668     0.807569  \n",
       "min       2.740000     0.330000     8.400000     3.000000  \n",
       "25%       3.210000     0.550000     9.500000     5.000000  \n",
       "50%       3.310000     0.620000    10.200000     6.000000  \n",
       "75%       3.400000     0.730000    11.100000     6.000000  \n",
       "max       4.010000     2.000000    14.900000     8.000000  "
      ]
     },
     "execution_count": 35,
     "metadata": {},
     "output_type": "execute_result"
    }
   ],
   "source": [
    "wine_dataframe.describe()"
   ]
  },
  {
   "cell_type": "markdown",
   "metadata": {},
   "source": [
    "Total no of wines"
   ]
  },
  {
   "cell_type": "code",
   "execution_count": 36,
   "metadata": {},
   "outputs": [
    {
     "data": {
      "text/plain": [
       "1599"
      ]
     },
     "execution_count": 36,
     "metadata": {},
     "output_type": "execute_result"
    }
   ],
   "source": [
    "num_wines = len(wine_dataframe)\n",
    "num_wines"
   ]
  },
  {
   "cell_type": "markdown",
   "metadata": {},
   "source": [
    "Here, loc() method is used. It is used in two ways -\n",
    "- locating rows and columns using name \n",
    "- locating rows and clomns based on boolean condition. \n",
    "The second way is used here. Below rows are selected where 'quality' is greate than '7' and it is stored a dataframe. Then, length (rows) of the dataframe is used. "
   ]
  },
  {
   "cell_type": "code",
   "execution_count": 37,
   "metadata": {},
   "outputs": [
    {
     "data": {
      "text/plain": [
       "quality\n",
       "3     10\n",
       "4     53\n",
       "5    681\n",
       "6    638\n",
       "7    199\n",
       "8     18\n",
       "dtype: int64"
      ]
     },
     "execution_count": 37,
     "metadata": {},
     "output_type": "execute_result"
    }
   ],
   "source": [
    "counts_df = wine_dataframe.groupby(['quality']).size()\n",
    "\n",
    "counts_df"
   ]
  },
  {
   "cell_type": "code",
   "execution_count": 38,
   "metadata": {},
   "outputs": [
    {
     "data": {
      "text/plain": [
       "217"
      ]
     },
     "execution_count": 38,
     "metadata": {},
     "output_type": "execute_result"
    }
   ],
   "source": [
    "num_high_quality = counts_df[7] + counts_df[8]\n",
    "num_high_quality"
   ]
  },
  {
   "cell_type": "code",
   "execution_count": 39,
   "metadata": {
    "collapsed": true
   },
   "outputs": [],
   "source": [
    "num_low_quality = counts_df[3] + counts_df[4]\n",
    "num_med_quality = counts_df[5] + counts_df[6]"
   ]
  },
  {
   "cell_type": "code",
   "execution_count": 40,
   "metadata": {},
   "outputs": [
    {
     "name": "stdout",
     "output_type": "stream",
     "text": [
      "Total wines:  1599\n",
      "High Quality wines :  217\n",
      "Medium Quality wines :  1319\n",
      "Low Quality wines :  63\n"
     ]
    }
   ],
   "source": [
    "print('Total wines: ', num_wines)\n",
    "print('High Quality wines : ', num_high_quality)\n",
    "print('Medium Quality wines : ', num_med_quality)\n",
    "print('Low Quality wines : ', num_low_quality)"
   ]
  },
  {
   "cell_type": "code",
   "execution_count": 41,
   "metadata": {
    "collapsed": true
   },
   "outputs": [],
   "source": [
    "from pygal.style import DarkStyle"
   ]
  },
  {
   "cell_type": "code",
   "execution_count": 42,
   "metadata": {
    "collapsed": true
   },
   "outputs": [],
   "source": [
    "pie_chart = pygal.Pie(width = 640,\n",
    "                      height = 360,\n",
    "                      explicit_size = True,\n",
    "                      style = DarkStyle)"
   ]
  },
  {
   "cell_type": "code",
   "execution_count": 43,
   "metadata": {
    "collapsed": true
   },
   "outputs": [],
   "source": [
    "pie_chart.title = 'Wines by Quality'"
   ]
  },
  {
   "cell_type": "code",
   "execution_count": 44,
   "metadata": {},
   "outputs": [
    {
     "data": {
      "image/png": "[encoded data removed]",
      "image/svg+xml": [
       "<svg xmlns=\"http://www.w3.org/2000/svg\" xmlns:xlink=\"http://www.w3.org/1999/xlink\" id=\"chart-0bc12f65-d171-45d5-84dc-249913e08caa\" class=\"pygal-chart\" viewBox=\"0 0 640 360\" width=\"640\" height=\"360\"><!--Generated with pygal 3.0.0 (lxml) ©Kozea 2012-2016 on 2023-11-27--><!--http://pygal.org--><!--http://github.com/Kozea/pygal--><defs><style type=\"text/css\">#chart-0bc12f65-d171-45d5-84dc-249913e08caa{-webkit-user-select:none;-webkit-font-smoothing:antialiased;font-family:Consolas,\"Liberation Mono\",Menlo,Courier,monospace}#chart-0bc12f65-d171-45d5-84dc-249913e08caa .title{font-family:Consolas,\"Liberation Mono\",Menlo,Courier,monospace;font-size:16px}#chart-0bc12f65-d171-45d5-84dc-249913e08caa .legends .legend text{font-family:Consolas,\"Liberation Mono\",Menlo,Courier,monospace;font-size:14px}#chart-0bc12f65-d171-45d5-84dc-249913e08caa .axis text{font-family:Consolas,\"Liberation Mono\",Menlo,Courier,monospace;font-size:10px}#chart-0bc12f65-d171-45d5-84dc-249913e08caa .axis text.major{font-family:Consolas,\"Liberation Mono\",Menlo,Courier,monospace;font-size:10px}#chart-0bc12f65-d171-45d5-84dc-249913e08caa .text-overlay text.value{font-family:Consolas,\"Liberation Mono\",Menlo,Courier,monospace;font-size:16px}#chart-0bc12f65-d171-45d5-84dc-249913e08caa .text-overlay text.label{font-family:Consolas,\"Liberation Mono\",Menlo,Courier,monospace;font-size:10px}#chart-0bc12f65-d171-45d5-84dc-249913e08caa .tooltip{font-family:Consolas,\"Liberation Mono\",Menlo,Courier,monospace;font-size:14px}#chart-0bc12f65-d171-45d5-84dc-249913e08caa text.no_data{font-family:Consolas,\"Liberation Mono\",Menlo,Courier,monospace;font-size:64px}\n",
       "#chart-0bc12f65-d171-45d5-84dc-249913e08caa{background-color:black}#chart-0bc12f65-d171-45d5-84dc-249913e08caa path,#chart-0bc12f65-d171-45d5-84dc-249913e08caa line,#chart-0bc12f65-d171-45d5-84dc-249913e08caa rect,#chart-0bc12f65-d171-45d5-84dc-249913e08caa circle{-webkit-transition:250ms;-moz-transition:250ms;transition:250ms}#chart-0bc12f65-d171-45d5-84dc-249913e08caa .graph &gt; .background{fill:black}#chart-0bc12f65-d171-45d5-84dc-249913e08caa .plot &gt; .background{fill:#111}#chart-0bc12f65-d171-45d5-84dc-249913e08caa .graph{fill:#999}#chart-0bc12f65-d171-45d5-84dc-249913e08caa text.no_data{fill:#eee}#chart-0bc12f65-d171-45d5-84dc-249913e08caa .title{fill:#eee}#chart-0bc12f65-d171-45d5-84dc-249913e08caa .legends .legend text{fill:#999}#chart-0bc12f65-d171-45d5-84dc-249913e08caa .legends .legend:hover text{fill:#eee}#chart-0bc12f65-d171-45d5-84dc-249913e08caa .axis .line{stroke:#eee}#chart-0bc12f65-d171-45d5-84dc-249913e08caa .axis .guide.line{stroke:#555}#chart-0bc12f65-d171-45d5-84dc-249913e08caa .axis .major.line{stroke:#999}#chart-0bc12f65-d171-45d5-84dc-249913e08caa .axis text.major{fill:#eee}#chart-0bc12f65-d171-45d5-84dc-249913e08caa .axis.y .guides:hover .guide.line,#chart-0bc12f65-d171-45d5-84dc-249913e08caa .line-graph .axis.x .guides:hover .guide.line,#chart-0bc12f65-d171-45d5-84dc-249913e08caa .stackedline-graph .axis.x .guides:hover .guide.line,#chart-0bc12f65-d171-45d5-84dc-249913e08caa .xy-graph .axis.x .guides:hover .guide.line{stroke:#eee}#chart-0bc12f65-d171-45d5-84dc-249913e08caa .axis .guides:hover text{fill:#eee}#chart-0bc12f65-d171-45d5-84dc-249913e08caa .reactive{fill-opacity:.8;stroke-opacity:.8;stroke-width:1}#chart-0bc12f65-d171-45d5-84dc-249913e08caa .ci{stroke:#999}#chart-0bc12f65-d171-45d5-84dc-249913e08caa .reactive.active,#chart-0bc12f65-d171-45d5-84dc-249913e08caa .active .reactive{fill-opacity:.4;stroke-opacity:.9;stroke-width:4}#chart-0bc12f65-d171-45d5-84dc-249913e08caa .ci .reactive.active{stroke-width:1.5}#chart-0bc12f65-d171-45d5-84dc-249913e08caa .series text{fill:#eee}#chart-0bc12f65-d171-45d5-84dc-249913e08caa .tooltip rect{fill:#111;stroke:#eee;-webkit-transition:opacity 250ms;-moz-transition:opacity 250ms;transition:opacity 250ms}#chart-0bc12f65-d171-45d5-84dc-249913e08caa .tooltip .label{fill:#999}#chart-0bc12f65-d171-45d5-84dc-249913e08caa .tooltip .label{fill:#999}#chart-0bc12f65-d171-45d5-84dc-249913e08caa .tooltip .legend{font-size:.8em;fill:#555}#chart-0bc12f65-d171-45d5-84dc-249913e08caa .tooltip .x_label{font-size:.6em;fill:#eee}#chart-0bc12f65-d171-45d5-84dc-249913e08caa .tooltip .xlink{font-size:.5em;text-decoration:underline}#chart-0bc12f65-d171-45d5-84dc-249913e08caa .tooltip .value{font-size:1.5em}#chart-0bc12f65-d171-45d5-84dc-249913e08caa .bound{font-size:.5em}#chart-0bc12f65-d171-45d5-84dc-249913e08caa .max-value{font-size:.75em;fill:#555}#chart-0bc12f65-d171-45d5-84dc-249913e08caa .map-element{fill:#111;stroke:#555 !important}#chart-0bc12f65-d171-45d5-84dc-249913e08caa .map-element .reactive{fill-opacity:inherit;stroke-opacity:inherit}#chart-0bc12f65-d171-45d5-84dc-249913e08caa .color-0,#chart-0bc12f65-d171-45d5-84dc-249913e08caa .color-0 a:visited{stroke:#ff5995;fill:#ff5995}#chart-0bc12f65-d171-45d5-84dc-249913e08caa .color-1,#chart-0bc12f65-d171-45d5-84dc-249913e08caa .color-1 a:visited{stroke:#b6e354;fill:#b6e354}#chart-0bc12f65-d171-45d5-84dc-249913e08caa .color-2,#chart-0bc12f65-d171-45d5-84dc-249913e08caa .color-2 a:visited{stroke:#feed6c;fill:#feed6c}#chart-0bc12f65-d171-45d5-84dc-249913e08caa .text-overlay .color-0 text{fill:black}#chart-0bc12f65-d171-45d5-84dc-249913e08caa .text-overlay .color-1 text{fill:black}#chart-0bc12f65-d171-45d5-84dc-249913e08caa .text-overlay .color-2 text{fill:black}\n",
       "#chart-0bc12f65-d171-45d5-84dc-249913e08caa text.no_data{text-anchor:middle}#chart-0bc12f65-d171-45d5-84dc-249913e08caa .guide.line{fill:none}#chart-0bc12f65-d171-45d5-84dc-249913e08caa .centered{text-anchor:middle}#chart-0bc12f65-d171-45d5-84dc-249913e08caa .title{text-anchor:middle}#chart-0bc12f65-d171-45d5-84dc-249913e08caa .legends .legend text{fill-opacity:1}#chart-0bc12f65-d171-45d5-84dc-249913e08caa .axis.x text{text-anchor:middle}#chart-0bc12f65-d171-45d5-84dc-249913e08caa .axis.x:not(.web) text[transform]{text-anchor:start}#chart-0bc12f65-d171-45d5-84dc-249913e08caa .axis.x:not(.web) text[transform].backwards{text-anchor:end}#chart-0bc12f65-d171-45d5-84dc-249913e08caa .axis.y text{text-anchor:end}#chart-0bc12f65-d171-45d5-84dc-249913e08caa .axis.y text[transform].backwards{text-anchor:start}#chart-0bc12f65-d171-45d5-84dc-249913e08caa .axis.y2 text{text-anchor:start}#chart-0bc12f65-d171-45d5-84dc-249913e08caa .axis.y2 text[transform].backwards{text-anchor:end}#chart-0bc12f65-d171-45d5-84dc-249913e08caa .axis .guide.line{stroke-dasharray:4,4;stroke:black}#chart-0bc12f65-d171-45d5-84dc-249913e08caa .axis .major.guide.line{stroke-dasharray:6,6;stroke:black}#chart-0bc12f65-d171-45d5-84dc-249913e08caa .horizontal .axis.y .guide.line,#chart-0bc12f65-d171-45d5-84dc-249913e08caa .horizontal .axis.y2 .guide.line,#chart-0bc12f65-d171-45d5-84dc-249913e08caa .vertical .axis.x .guide.line{opacity:0}#chart-0bc12f65-d171-45d5-84dc-249913e08caa .horizontal .axis.always_show .guide.line,#chart-0bc12f65-d171-45d5-84dc-249913e08caa .vertical .axis.always_show .guide.line{opacity:1 !important}#chart-0bc12f65-d171-45d5-84dc-249913e08caa .axis.y .guides:hover .guide.line,#chart-0bc12f65-d171-45d5-84dc-249913e08caa .axis.y2 .guides:hover .guide.line,#chart-0bc12f65-d171-45d5-84dc-249913e08caa .axis.x .guides:hover .guide.line{opacity:1}#chart-0bc12f65-d171-45d5-84dc-249913e08caa .axis .guides:hover text{opacity:1}#chart-0bc12f65-d171-45d5-84dc-249913e08caa .nofill{fill:none}#chart-0bc12f65-d171-45d5-84dc-249913e08caa .subtle-fill{fill-opacity:.2}#chart-0bc12f65-d171-45d5-84dc-249913e08caa .dot{stroke-width:1px;fill-opacity:1;stroke-opacity:1}#chart-0bc12f65-d171-45d5-84dc-249913e08caa .dot.active{stroke-width:5px}#chart-0bc12f65-d171-45d5-84dc-249913e08caa .dot.negative{fill:transparent}#chart-0bc12f65-d171-45d5-84dc-249913e08caa text,#chart-0bc12f65-d171-45d5-84dc-249913e08caa tspan{stroke:none !important}#chart-0bc12f65-d171-45d5-84dc-249913e08caa .series text.active{opacity:1}#chart-0bc12f65-d171-45d5-84dc-249913e08caa .tooltip rect{fill-opacity:.95;stroke-width:.5}#chart-0bc12f65-d171-45d5-84dc-249913e08caa .tooltip text{fill-opacity:1}#chart-0bc12f65-d171-45d5-84dc-249913e08caa .showable{visibility:hidden}#chart-0bc12f65-d171-45d5-84dc-249913e08caa .showable.shown{visibility:visible}#chart-0bc12f65-d171-45d5-84dc-249913e08caa .gauge-background{fill:rgba(229,229,229,1);stroke:none}#chart-0bc12f65-d171-45d5-84dc-249913e08caa .bg-lines{stroke:black;stroke-width:2px}</style><script type=\"text/javascript\">window.pygal = window.pygal || {};window.pygal.config = window.pygal.config || {};window.pygal.config['0bc12f65-d171-45d5-84dc-249913e08caa'] = {\"allow_interruptions\": false, \"box_mode\": \"extremes\", \"classes\": [\"pygal-chart\"], \"css\": [\"file://style.css\", \"file://graph.css\"], \"defs\": [], \"disable_xml_declaration\": true, \"dots_size\": 2.5, \"dynamic_print_values\": false, \"explicit_size\": true, \"fill\": false, \"force_uri_protocol\": \"https\", \"formatter\": null, \"half_pie\": false, \"height\": 360, \"include_x_axis\": false, \"inner_radius\": 0, \"interpolate\": null, \"interpolation_parameters\": {}, \"interpolation_precision\": 250, \"inverse_y_axis\": false, \"js\": [\"//kozea.github.io/pygal.js/2.0.x/pygal-tooltips.min.js\"], \"legend_at_bottom\": false, \"legend_at_bottom_columns\": null, \"legend_box_size\": 12, \"logarithmic\": false, \"margin\": 20, \"margin_bottom\": null, \"margin_left\": null, \"margin_right\": null, \"margin_top\": null, \"max_scale\": 16, \"min_scale\": 4, \"missing_value_fill_truncation\": \"x\", \"no_data_text\": \"No data\", \"no_prefix\": false, \"order_min\": null, \"pretty_print\": false, \"print_labels\": false, \"print_values\": false, \"print_values_position\": \"center\", \"print_zeroes\": true, \"range\": null, \"rounded_bars\": null, \"secondary_range\": null, \"show_dots\": true, \"show_legend\": true, \"show_minor_x_labels\": true, \"show_minor_y_labels\": true, \"show_only_major_dots\": false, \"show_x_guides\": false, \"show_x_labels\": true, \"show_y_guides\": true, \"show_y_labels\": true, \"spacing\": 10, \"stack_from_top\": false, \"strict\": false, \"stroke\": true, \"stroke_style\": null, \"style\": {\"background\": \"black\", \"ci_colors\": [], \"colors\": [\"#ff5995\", \"#b6e354\", \"#feed6c\", \"#8cedff\", \"#9e6ffe\", \"#899ca1\", \"#f8f8f2\", \"#bf4646\", \"#516083\", \"#f92672\", \"#82b414\", \"#fd971f\", \"#56c2d6\", \"#808384\", \"#8c54fe\", \"#465457\"], \"dot_opacity\": \"1\", \"font_family\": \"Consolas, \\\"Liberation Mono\\\", Menlo, Courier, monospace\", \"foreground\": \"#999\", \"foreground_strong\": \"#eee\", \"foreground_subtle\": \"#555\", \"guide_stroke_color\": \"black\", \"guide_stroke_dasharray\": \"4,4\", \"label_font_family\": \"Consolas, \\\"Liberation Mono\\\", Menlo, Courier, monospace\", \"label_font_size\": 10, \"legend_font_family\": \"Consolas, \\\"Liberation Mono\\\", Menlo, Courier, monospace\", \"legend_font_size\": 14, \"major_guide_stroke_color\": \"black\", \"major_guide_stroke_dasharray\": \"6,6\", \"major_label_font_family\": \"Consolas, \\\"Liberation Mono\\\", Menlo, Courier, monospace\", \"major_label_font_size\": 10, \"no_data_font_family\": \"Consolas, \\\"Liberation Mono\\\", Menlo, Courier, monospace\", \"no_data_font_size\": 64, \"opacity\": \".8\", \"opacity_hover\": \".4\", \"plot_background\": \"#111\", \"stroke_opacity\": \".8\", \"stroke_opacity_hover\": \".9\", \"stroke_width\": \"1\", \"stroke_width_hover\": \"4\", \"title_font_family\": \"Consolas, \\\"Liberation Mono\\\", Menlo, Courier, monospace\", \"title_font_size\": 16, \"tooltip_font_family\": \"Consolas, \\\"Liberation Mono\\\", Menlo, Courier, monospace\", \"tooltip_font_size\": 14, \"transition\": \"250ms\", \"value_background\": \"rgba(229, 229, 229, 1)\", \"value_colors\": [], \"value_font_family\": \"Consolas, \\\"Liberation Mono\\\", Menlo, Courier, monospace\", \"value_font_size\": 16, \"value_label_font_family\": \"Consolas, \\\"Liberation Mono\\\", Menlo, Courier, monospace\", \"value_label_font_size\": 10}, \"title\": \"Wines by Quality\", \"tooltip_border_radius\": 0, \"tooltip_fancy_mode\": true, \"truncate_label\": null, \"truncate_legend\": null, \"width\": 640, \"x_label_rotation\": 0, \"x_labels\": null, \"x_labels_major\": null, \"x_labels_major_count\": null, \"x_labels_major_every\": null, \"x_title\": null, \"xrange\": null, \"y_label_rotation\": 0, \"y_labels\": null, \"y_labels_major\": null, \"y_labels_major_count\": null, \"y_labels_major_every\": null, \"y_title\": null, \"zero\": 0, \"legends\": [\"High Quality\", \"Medium Quality\", \"Low Quality\"]}</script><script type=\"text/javascript\" xlink:href=\"https://kozea.github.io/pygal.js/2.0.x/pygal-tooltips.min.js\"/></defs><title>Wines by Quality</title><g class=\"graph pie-graph vertical\"><rect x=\"0\" y=\"0\" width=\"640\" height=\"360\" class=\"background\"/><g transform=\"translate(159, 46)\" class=\"plot\"><rect x=\"0\" y=\"0\" width=\"460.4\" height=\"294\" class=\"background\"/><g class=\"series serie-0 color-0\"><g class=\"slices\"><g class=\"slice\"><path d=\"M230.200000 14.700000 A132.300000 132.300000 0 0 1 329.828912 59.951910 L230.200000 147.000000 A0.000000 0.000000 0 0 0 230.200000 147.000000 z\" class=\"slice reactive tooltip-trigger\"/><desc class=\"value\">217</desc><desc class=\"x centered\">257.55604987559275</desc><desc class=\"y centered\">86.77152637494386</desc></g></g></g><g class=\"series serie-1 color-1\"><g class=\"slices\"><g class=\"slice\"><path d=\"M329.828912 59.951910 A132.300000 132.300000 0 1 1 197.781953 18.733246 L230.200000 147.000000 A0.000000 0.000000 0 1 0 230.200000 147.000000 z\" class=\"slice reactive tooltip-trigger\"/><desc class=\"value\">1319</desc><desc class=\"x centered\">210.48915494217687</desc><desc class=\"y centered\">210.14511134764504</desc></g></g></g><g class=\"series serie-2 color-2\"><g class=\"slices\"><g class=\"slice\"><path d=\"M197.781953 18.733246 A132.300000 132.300000 0 0 1 230.200000 14.700000 L230.200000 147.000000 A0.000000 0.000000 0 0 0 230.200000 147.000000 z\" class=\"slice reactive tooltip-trigger\"/><desc class=\"value\">63</desc><desc class=\"x centered\">222.03300523456736</desc><desc class=\"y centered\">81.35609170302703</desc></g></g></g></g><g class=\"titles\"><text x=\"320.0\" y=\"26\" class=\"title plot_title\">Wines by Quality</text></g><g transform=\"translate(159, 46)\" class=\"plot overlay\"><g class=\"series serie-0 color-0\"/><g class=\"series serie-1 color-1\"/><g class=\"series serie-2 color-2\"/></g><g transform=\"translate(159, 46)\" class=\"plot text-overlay\"><g class=\"series serie-0 color-0\"/><g class=\"series serie-1 color-1\"/><g class=\"series serie-2 color-2\"/></g><g transform=\"translate(159, 46)\" class=\"plot tooltip-overlay\"><g transform=\"translate(0 0)\" style=\"opacity: 0\" class=\"tooltip\"><rect rx=\"0\" ry=\"0\" width=\"0\" height=\"0\" class=\"tooltip-box\"/><g class=\"text\"/></g></g><g transform=\"translate(10, 56)\" class=\"legends\"><g id=\"activate-serie-0\" class=\"legend reactive activate-serie\"><rect x=\"0.0\" y=\"1.0\" width=\"12\" height=\"12\" class=\"color-0 reactive\"/><text x=\"17.0\" y=\"11.2\">High Quality</text></g><g id=\"activate-serie-1\" class=\"legend reactive activate-serie\"><rect x=\"0.0\" y=\"22.0\" width=\"12\" height=\"12\" class=\"color-1 reactive\"/><text x=\"17.0\" y=\"32.2\">Medium Quality</text></g><g id=\"activate-serie-2\" class=\"legend reactive activate-serie\"><rect x=\"0.0\" y=\"43.0\" width=\"12\" height=\"12\" class=\"color-2 reactive\"/><text x=\"17.0\" y=\"53.2\">Low Quality</text></g></g><g transform=\"translate(630, 56)\" class=\"legends\"/></g></svg>"
      ],
      "text/plain": [
       "<pygal.graph.pie.Pie at 0x7f83995c3b90>"
      ]
     },
     "execution_count": 44,
     "metadata": {},
     "output_type": "execute_result"
    }
   ],
   "source": [
    "pie_chart.add('High Quality', num_high_quality)\n",
    "pie_chart.add('Medium Quality', num_med_quality)\n",
    "pie_chart.add('Low Quality', num_low_quality)"
   ]
  },
  {
   "cell_type": "markdown",
   "metadata": {},
   "source": [
    "As the above chart is not interactive \n",
    "\n",
    "Below is the **method to print the interactive graph** in the jupyter notebook. HTML template is defined and rendered chart is passed inside the HTML template and displayed. "
   ]
  },
  {
   "cell_type": "code",
   "execution_count": 45,
   "metadata": {
    "collapsed": true
   },
   "outputs": [],
   "source": [
    "from IPython.display import display, HTML\n",
    "\n",
    "html_skeleton = \"\"\"\n",
    "<!DOCTYPE html>\n",
    "<html>\n",
    "  <head>\n",
    "  <script type=\"text/javascript\" \n",
    "          src=\"http://kozea.github.com/pygal.js/javascripts/svg.jquery.js\">\n",
    "  </script>\n",
    "  <script type=\"text/javascript\" \n",
    "          src=\"https://kozea.github.io/pygal.js/2.0.x/pygal-tooltips.min.js\"\">\n",
    "  </script>\n",
    "  </head>\n",
    "  <body>\n",
    "    <figure>\n",
    "      {rendered_chart}\n",
    "    </figure>\n",
    "  </body>\n",
    "</html>\n",
    "\"\"\"\n",
    "\n",
    "def display_chart(chart):\n",
    "    rendered_chart = chart.render(is_unicode=True)\n",
    "    plot_html = html_skeleton.format(rendered_chart=rendered_chart)\n",
    "    display(HTML(plot_html))"
   ]
  },
  {
   "cell_type": "code",
   "execution_count": 46,
   "metadata": {},
   "outputs": [
    {
     "data": {
      "text/html": [
       "\n",
       "<!DOCTYPE html>\n",
       "<html>\n",
       "  <head>\n",
       "  <script type=\"text/javascript\" \n",
       "          src=\"http://kozea.github.com/pygal.js/javascripts/svg.jquery.js\">\n",
       "  </script>\n",
       "  <script type=\"text/javascript\" \n",
       "          src=\"https://kozea.github.io/pygal.js/2.0.x/pygal-tooltips.min.js\"\">\n",
       "  </script>\n",
       "  </head>\n",
       "  <body>\n",
       "    <figure>\n",
       "      <?xml version='1.0' encoding='utf-8'?>\n",
       "<svg xmlns=\"http://www.w3.org/2000/svg\" xmlns:xlink=\"http://www.w3.org/1999/xlink\" id=\"chart-0bc12f65-d171-45d5-84dc-249913e08caa\" class=\"pygal-chart\" viewBox=\"0 0 640 360\" width=\"640\" height=\"360\"><!--Generated with pygal 3.0.0 (lxml) ©Kozea 2012-2016 on 2023-11-27--><!--http://pygal.org--><!--http://github.com/Kozea/pygal--><defs><style type=\"text/css\">#chart-0bc12f65-d171-45d5-84dc-249913e08caa{-webkit-user-select:none;-webkit-font-smoothing:antialiased;font-family:Consolas,\"Liberation Mono\",Menlo,Courier,monospace}#chart-0bc12f65-d171-45d5-84dc-249913e08caa .title{font-family:Consolas,\"Liberation Mono\",Menlo,Courier,monospace;font-size:16px}#chart-0bc12f65-d171-45d5-84dc-249913e08caa .legends .legend text{font-family:Consolas,\"Liberation Mono\",Menlo,Courier,monospace;font-size:14px}#chart-0bc12f65-d171-45d5-84dc-249913e08caa .axis text{font-family:Consolas,\"Liberation Mono\",Menlo,Courier,monospace;font-size:10px}#chart-0bc12f65-d171-45d5-84dc-249913e08caa .axis text.major{font-family:Consolas,\"Liberation Mono\",Menlo,Courier,monospace;font-size:10px}#chart-0bc12f65-d171-45d5-84dc-249913e08caa .text-overlay text.value{font-family:Consolas,\"Liberation Mono\",Menlo,Courier,monospace;font-size:16px}#chart-0bc12f65-d171-45d5-84dc-249913e08caa .text-overlay text.label{font-family:Consolas,\"Liberation Mono\",Menlo,Courier,monospace;font-size:10px}#chart-0bc12f65-d171-45d5-84dc-249913e08caa .tooltip{font-family:Consolas,\"Liberation Mono\",Menlo,Courier,monospace;font-size:14px}#chart-0bc12f65-d171-45d5-84dc-249913e08caa text.no_data{font-family:Consolas,\"Liberation Mono\",Menlo,Courier,monospace;font-size:64px}\n",
       "#chart-0bc12f65-d171-45d5-84dc-249913e08caa{background-color:black}#chart-0bc12f65-d171-45d5-84dc-249913e08caa path,#chart-0bc12f65-d171-45d5-84dc-249913e08caa line,#chart-0bc12f65-d171-45d5-84dc-249913e08caa rect,#chart-0bc12f65-d171-45d5-84dc-249913e08caa circle{-webkit-transition:250ms;-moz-transition:250ms;transition:250ms}#chart-0bc12f65-d171-45d5-84dc-249913e08caa .graph &gt; .background{fill:black}#chart-0bc12f65-d171-45d5-84dc-249913e08caa .plot &gt; .background{fill:#111}#chart-0bc12f65-d171-45d5-84dc-249913e08caa .graph{fill:#999}#chart-0bc12f65-d171-45d5-84dc-249913e08caa text.no_data{fill:#eee}#chart-0bc12f65-d171-45d5-84dc-249913e08caa .title{fill:#eee}#chart-0bc12f65-d171-45d5-84dc-249913e08caa .legends .legend text{fill:#999}#chart-0bc12f65-d171-45d5-84dc-249913e08caa .legends .legend:hover text{fill:#eee}#chart-0bc12f65-d171-45d5-84dc-249913e08caa .axis .line{stroke:#eee}#chart-0bc12f65-d171-45d5-84dc-249913e08caa .axis .guide.line{stroke:#555}#chart-0bc12f65-d171-45d5-84dc-249913e08caa .axis .major.line{stroke:#999}#chart-0bc12f65-d171-45d5-84dc-249913e08caa .axis text.major{fill:#eee}#chart-0bc12f65-d171-45d5-84dc-249913e08caa .axis.y .guides:hover .guide.line,#chart-0bc12f65-d171-45d5-84dc-249913e08caa .line-graph .axis.x .guides:hover .guide.line,#chart-0bc12f65-d171-45d5-84dc-249913e08caa .stackedline-graph .axis.x .guides:hover .guide.line,#chart-0bc12f65-d171-45d5-84dc-249913e08caa .xy-graph .axis.x .guides:hover .guide.line{stroke:#eee}#chart-0bc12f65-d171-45d5-84dc-249913e08caa .axis .guides:hover text{fill:#eee}#chart-0bc12f65-d171-45d5-84dc-249913e08caa .reactive{fill-opacity:.8;stroke-opacity:.8;stroke-width:1}#chart-0bc12f65-d171-45d5-84dc-249913e08caa .ci{stroke:#999}#chart-0bc12f65-d171-45d5-84dc-249913e08caa .reactive.active,#chart-0bc12f65-d171-45d5-84dc-249913e08caa .active .reactive{fill-opacity:.4;stroke-opacity:.9;stroke-width:4}#chart-0bc12f65-d171-45d5-84dc-249913e08caa .ci .reactive.active{stroke-width:1.5}#chart-0bc12f65-d171-45d5-84dc-249913e08caa .series text{fill:#eee}#chart-0bc12f65-d171-45d5-84dc-249913e08caa .tooltip rect{fill:#111;stroke:#eee;-webkit-transition:opacity 250ms;-moz-transition:opacity 250ms;transition:opacity 250ms}#chart-0bc12f65-d171-45d5-84dc-249913e08caa .tooltip .label{fill:#999}#chart-0bc12f65-d171-45d5-84dc-249913e08caa .tooltip .label{fill:#999}#chart-0bc12f65-d171-45d5-84dc-249913e08caa .tooltip .legend{font-size:.8em;fill:#555}#chart-0bc12f65-d171-45d5-84dc-249913e08caa .tooltip .x_label{font-size:.6em;fill:#eee}#chart-0bc12f65-d171-45d5-84dc-249913e08caa .tooltip .xlink{font-size:.5em;text-decoration:underline}#chart-0bc12f65-d171-45d5-84dc-249913e08caa .tooltip .value{font-size:1.5em}#chart-0bc12f65-d171-45d5-84dc-249913e08caa .bound{font-size:.5em}#chart-0bc12f65-d171-45d5-84dc-249913e08caa .max-value{font-size:.75em;fill:#555}#chart-0bc12f65-d171-45d5-84dc-249913e08caa .map-element{fill:#111;stroke:#555 !important}#chart-0bc12f65-d171-45d5-84dc-249913e08caa .map-element .reactive{fill-opacity:inherit;stroke-opacity:inherit}#chart-0bc12f65-d171-45d5-84dc-249913e08caa .color-0,#chart-0bc12f65-d171-45d5-84dc-249913e08caa .color-0 a:visited{stroke:#ff5995;fill:#ff5995}#chart-0bc12f65-d171-45d5-84dc-249913e08caa .color-1,#chart-0bc12f65-d171-45d5-84dc-249913e08caa .color-1 a:visited{stroke:#b6e354;fill:#b6e354}#chart-0bc12f65-d171-45d5-84dc-249913e08caa .color-2,#chart-0bc12f65-d171-45d5-84dc-249913e08caa .color-2 a:visited{stroke:#feed6c;fill:#feed6c}#chart-0bc12f65-d171-45d5-84dc-249913e08caa .text-overlay .color-0 text{fill:black}#chart-0bc12f65-d171-45d5-84dc-249913e08caa .text-overlay .color-1 text{fill:black}#chart-0bc12f65-d171-45d5-84dc-249913e08caa .text-overlay .color-2 text{fill:black}\n",
       "#chart-0bc12f65-d171-45d5-84dc-249913e08caa text.no_data{text-anchor:middle}#chart-0bc12f65-d171-45d5-84dc-249913e08caa .guide.line{fill:none}#chart-0bc12f65-d171-45d5-84dc-249913e08caa .centered{text-anchor:middle}#chart-0bc12f65-d171-45d5-84dc-249913e08caa .title{text-anchor:middle}#chart-0bc12f65-d171-45d5-84dc-249913e08caa .legends .legend text{fill-opacity:1}#chart-0bc12f65-d171-45d5-84dc-249913e08caa .axis.x text{text-anchor:middle}#chart-0bc12f65-d171-45d5-84dc-249913e08caa .axis.x:not(.web) text[transform]{text-anchor:start}#chart-0bc12f65-d171-45d5-84dc-249913e08caa .axis.x:not(.web) text[transform].backwards{text-anchor:end}#chart-0bc12f65-d171-45d5-84dc-249913e08caa .axis.y text{text-anchor:end}#chart-0bc12f65-d171-45d5-84dc-249913e08caa .axis.y text[transform].backwards{text-anchor:start}#chart-0bc12f65-d171-45d5-84dc-249913e08caa .axis.y2 text{text-anchor:start}#chart-0bc12f65-d171-45d5-84dc-249913e08caa .axis.y2 text[transform].backwards{text-anchor:end}#chart-0bc12f65-d171-45d5-84dc-249913e08caa .axis .guide.line{stroke-dasharray:4,4;stroke:black}#chart-0bc12f65-d171-45d5-84dc-249913e08caa .axis .major.guide.line{stroke-dasharray:6,6;stroke:black}#chart-0bc12f65-d171-45d5-84dc-249913e08caa .horizontal .axis.y .guide.line,#chart-0bc12f65-d171-45d5-84dc-249913e08caa .horizontal .axis.y2 .guide.line,#chart-0bc12f65-d171-45d5-84dc-249913e08caa .vertical .axis.x .guide.line{opacity:0}#chart-0bc12f65-d171-45d5-84dc-249913e08caa .horizontal .axis.always_show .guide.line,#chart-0bc12f65-d171-45d5-84dc-249913e08caa .vertical .axis.always_show .guide.line{opacity:1 !important}#chart-0bc12f65-d171-45d5-84dc-249913e08caa .axis.y .guides:hover .guide.line,#chart-0bc12f65-d171-45d5-84dc-249913e08caa .axis.y2 .guides:hover .guide.line,#chart-0bc12f65-d171-45d5-84dc-249913e08caa .axis.x .guides:hover .guide.line{opacity:1}#chart-0bc12f65-d171-45d5-84dc-249913e08caa .axis .guides:hover text{opacity:1}#chart-0bc12f65-d171-45d5-84dc-249913e08caa .nofill{fill:none}#chart-0bc12f65-d171-45d5-84dc-249913e08caa .subtle-fill{fill-opacity:.2}#chart-0bc12f65-d171-45d5-84dc-249913e08caa .dot{stroke-width:1px;fill-opacity:1;stroke-opacity:1}#chart-0bc12f65-d171-45d5-84dc-249913e08caa .dot.active{stroke-width:5px}#chart-0bc12f65-d171-45d5-84dc-249913e08caa .dot.negative{fill:transparent}#chart-0bc12f65-d171-45d5-84dc-249913e08caa text,#chart-0bc12f65-d171-45d5-84dc-249913e08caa tspan{stroke:none !important}#chart-0bc12f65-d171-45d5-84dc-249913e08caa .series text.active{opacity:1}#chart-0bc12f65-d171-45d5-84dc-249913e08caa .tooltip rect{fill-opacity:.95;stroke-width:.5}#chart-0bc12f65-d171-45d5-84dc-249913e08caa .tooltip text{fill-opacity:1}#chart-0bc12f65-d171-45d5-84dc-249913e08caa .showable{visibility:hidden}#chart-0bc12f65-d171-45d5-84dc-249913e08caa .showable.shown{visibility:visible}#chart-0bc12f65-d171-45d5-84dc-249913e08caa .gauge-background{fill:rgba(229,229,229,1);stroke:none}#chart-0bc12f65-d171-45d5-84dc-249913e08caa .bg-lines{stroke:black;stroke-width:2px}</style><script type=\"text/javascript\">window.pygal = window.pygal || {};window.pygal.config = window.pygal.config || {};window.pygal.config['0bc12f65-d171-45d5-84dc-249913e08caa'] = {\"allow_interruptions\": false, \"box_mode\": \"extremes\", \"classes\": [\"pygal-chart\"], \"css\": [\"file://style.css\", \"file://graph.css\"], \"defs\": [], \"disable_xml_declaration\": false, \"dots_size\": 2.5, \"dynamic_print_values\": false, \"explicit_size\": true, \"fill\": false, \"force_uri_protocol\": \"https\", \"formatter\": null, \"half_pie\": false, \"height\": 360, \"include_x_axis\": false, \"inner_radius\": 0, \"interpolate\": null, \"interpolation_parameters\": {}, \"interpolation_precision\": 250, \"inverse_y_axis\": false, \"js\": [\"//kozea.github.io/pygal.js/2.0.x/pygal-tooltips.min.js\"], \"legend_at_bottom\": false, \"legend_at_bottom_columns\": null, \"legend_box_size\": 12, \"logarithmic\": false, \"margin\": 20, \"margin_bottom\": null, \"margin_left\": null, \"margin_right\": null, \"margin_top\": null, \"max_scale\": 16, \"min_scale\": 4, \"missing_value_fill_truncation\": \"x\", \"no_data_text\": \"No data\", \"no_prefix\": false, \"order_min\": null, \"pretty_print\": false, \"print_labels\": false, \"print_values\": false, \"print_values_position\": \"center\", \"print_zeroes\": true, \"range\": null, \"rounded_bars\": null, \"secondary_range\": null, \"show_dots\": true, \"show_legend\": true, \"show_minor_x_labels\": true, \"show_minor_y_labels\": true, \"show_only_major_dots\": false, \"show_x_guides\": false, \"show_x_labels\": true, \"show_y_guides\": true, \"show_y_labels\": true, \"spacing\": 10, \"stack_from_top\": false, \"strict\": false, \"stroke\": true, \"stroke_style\": null, \"style\": {\"background\": \"black\", \"ci_colors\": [], \"colors\": [\"#ff5995\", \"#b6e354\", \"#feed6c\", \"#8cedff\", \"#9e6ffe\", \"#899ca1\", \"#f8f8f2\", \"#bf4646\", \"#516083\", \"#f92672\", \"#82b414\", \"#fd971f\", \"#56c2d6\", \"#808384\", \"#8c54fe\", \"#465457\"], \"dot_opacity\": \"1\", \"font_family\": \"Consolas, \\\"Liberation Mono\\\", Menlo, Courier, monospace\", \"foreground\": \"#999\", \"foreground_strong\": \"#eee\", \"foreground_subtle\": \"#555\", \"guide_stroke_color\": \"black\", \"guide_stroke_dasharray\": \"4,4\", \"label_font_family\": \"Consolas, \\\"Liberation Mono\\\", Menlo, Courier, monospace\", \"label_font_size\": 10, \"legend_font_family\": \"Consolas, \\\"Liberation Mono\\\", Menlo, Courier, monospace\", \"legend_font_size\": 14, \"major_guide_stroke_color\": \"black\", \"major_guide_stroke_dasharray\": \"6,6\", \"major_label_font_family\": \"Consolas, \\\"Liberation Mono\\\", Menlo, Courier, monospace\", \"major_label_font_size\": 10, \"no_data_font_family\": \"Consolas, \\\"Liberation Mono\\\", Menlo, Courier, monospace\", \"no_data_font_size\": 64, \"opacity\": \".8\", \"opacity_hover\": \".4\", \"plot_background\": \"#111\", \"stroke_opacity\": \".8\", \"stroke_opacity_hover\": \".9\", \"stroke_width\": \"1\", \"stroke_width_hover\": \"4\", \"title_font_family\": \"Consolas, \\\"Liberation Mono\\\", Menlo, Courier, monospace\", \"title_font_size\": 16, \"tooltip_font_family\": \"Consolas, \\\"Liberation Mono\\\", Menlo, Courier, monospace\", \"tooltip_font_size\": 14, \"transition\": \"250ms\", \"value_background\": \"rgba(229, 229, 229, 1)\", \"value_colors\": [], \"value_font_family\": \"Consolas, \\\"Liberation Mono\\\", Menlo, Courier, monospace\", \"value_font_size\": 16, \"value_label_font_family\": \"Consolas, \\\"Liberation Mono\\\", Menlo, Courier, monospace\", \"value_label_font_size\": 10}, \"title\": \"Wines by Quality\", \"tooltip_border_radius\": 0, \"tooltip_fancy_mode\": true, \"truncate_label\": null, \"truncate_legend\": null, \"width\": 640, \"x_label_rotation\": 0, \"x_labels\": null, \"x_labels_major\": null, \"x_labels_major_count\": null, \"x_labels_major_every\": null, \"x_title\": null, \"xrange\": null, \"y_label_rotation\": 0, \"y_labels\": null, \"y_labels_major\": null, \"y_labels_major_count\": null, \"y_labels_major_every\": null, \"y_title\": null, \"zero\": 0, \"legends\": [\"High Quality\", \"Medium Quality\", \"Low Quality\"]}</script><script type=\"text/javascript\" xlink:href=\"https://kozea.github.io/pygal.js/2.0.x/pygal-tooltips.min.js\"/></defs><title>Wines by Quality</title><g class=\"graph pie-graph vertical\"><rect x=\"0\" y=\"0\" width=\"640\" height=\"360\" class=\"background\"/><g transform=\"translate(159, 46)\" class=\"plot\"><rect x=\"0\" y=\"0\" width=\"460.4\" height=\"294\" class=\"background\"/><g class=\"series serie-0 color-0\"><g class=\"slices\"><g class=\"slice\"><path d=\"M230.200000 14.700000 A132.300000 132.300000 0 0 1 329.828912 59.951910 L230.200000 147.000000 A0.000000 0.000000 0 0 0 230.200000 147.000000 z\" class=\"slice reactive tooltip-trigger\"/><desc class=\"value\">217</desc><desc class=\"x centered\">257.55604987559275</desc><desc class=\"y centered\">86.77152637494386</desc></g></g></g><g class=\"series serie-1 color-1\"><g class=\"slices\"><g class=\"slice\"><path d=\"M329.828912 59.951910 A132.300000 132.300000 0 1 1 197.781953 18.733246 L230.200000 147.000000 A0.000000 0.000000 0 1 0 230.200000 147.000000 z\" class=\"slice reactive tooltip-trigger\"/><desc class=\"value\">1319</desc><desc class=\"x centered\">210.48915494217687</desc><desc class=\"y centered\">210.14511134764504</desc></g></g></g><g class=\"series serie-2 color-2\"><g class=\"slices\"><g class=\"slice\"><path d=\"M197.781953 18.733246 A132.300000 132.300000 0 0 1 230.200000 14.700000 L230.200000 147.000000 A0.000000 0.000000 0 0 0 230.200000 147.000000 z\" class=\"slice reactive tooltip-trigger\"/><desc class=\"value\">63</desc><desc class=\"x centered\">222.03300523456736</desc><desc class=\"y centered\">81.35609170302703</desc></g></g></g></g><g class=\"titles\"><text x=\"320.0\" y=\"26\" class=\"title plot_title\">Wines by Quality</text></g><g transform=\"translate(159, 46)\" class=\"plot overlay\"><g class=\"series serie-0 color-0\"/><g class=\"series serie-1 color-1\"/><g class=\"series serie-2 color-2\"/></g><g transform=\"translate(159, 46)\" class=\"plot text-overlay\"><g class=\"series serie-0 color-0\"/><g class=\"series serie-1 color-1\"/><g class=\"series serie-2 color-2\"/></g><g transform=\"translate(159, 46)\" class=\"plot tooltip-overlay\"><g transform=\"translate(0 0)\" style=\"opacity: 0\" class=\"tooltip\"><rect rx=\"0\" ry=\"0\" width=\"0\" height=\"0\" class=\"tooltip-box\"/><g class=\"text\"/></g></g><g transform=\"translate(10, 56)\" class=\"legends\"><g id=\"activate-serie-0\" class=\"legend reactive activate-serie\"><rect x=\"0.0\" y=\"1.0\" width=\"12\" height=\"12\" class=\"color-0 reactive\"/><text x=\"17.0\" y=\"11.2\">High Quality</text></g><g id=\"activate-serie-1\" class=\"legend reactive activate-serie\"><rect x=\"0.0\" y=\"22.0\" width=\"12\" height=\"12\" class=\"color-1 reactive\"/><text x=\"17.0\" y=\"32.2\">Medium Quality</text></g><g id=\"activate-serie-2\" class=\"legend reactive activate-serie\"><rect x=\"0.0\" y=\"43.0\" width=\"12\" height=\"12\" class=\"color-2 reactive\"/><text x=\"17.0\" y=\"53.2\">Low Quality</text></g></g><g transform=\"translate(630, 56)\" class=\"legends\"/></g></svg>\n",
       "    </figure>\n",
       "  </body>\n",
       "</html>\n"
      ],
      "text/plain": [
       "<IPython.core.display.HTML object>"
      ]
     },
     "metadata": {},
     "output_type": "display_data"
    }
   ],
   "source": [
    "display_chart(pie_chart)"
   ]
  },
  {
   "cell_type": "markdown",
   "metadata": {},
   "source": [
    "Now, the chart is interactive. After the **display_chart** method is used to display the chart, **non-interactive** chart will also turn into interactive one. \n",
    "\n",
    "\n",
    "### Create a donut. (Aesthetic tweak)\n",
    "\n",
    "Create a **Donut** by sepcifying a paramerter **inner_radius**"
   ]
  },
  {
   "cell_type": "code",
   "execution_count": 47,
   "metadata": {
    "collapsed": true
   },
   "outputs": [],
   "source": [
    "pie_chart = pygal.Pie(width = 640,\n",
    "                      height = 360,\n",
    "                      explicit_size = True,\n",
    "                      style = DarkStyle,\n",
    "                      inner_radius = .5)"
   ]
  },
  {
   "cell_type": "code",
   "execution_count": 48,
   "metadata": {},
   "outputs": [
    {
     "data": {
      "text/html": [
       "\n",
       "<!DOCTYPE html>\n",
       "<html>\n",
       "  <head>\n",
       "  <script type=\"text/javascript\" \n",
       "          src=\"http://kozea.github.com/pygal.js/javascripts/svg.jquery.js\">\n",
       "  </script>\n",
       "  <script type=\"text/javascript\" \n",
       "          src=\"https://kozea.github.io/pygal.js/2.0.x/pygal-tooltips.min.js\"\">\n",
       "  </script>\n",
       "  </head>\n",
       "  <body>\n",
       "    <figure>\n",
       "      <?xml version='1.0' encoding='utf-8'?>\n",
       "<svg xmlns=\"http://www.w3.org/2000/svg\" xmlns:xlink=\"http://www.w3.org/1999/xlink\" id=\"chart-da681cca-e5e1-42a5-931d-eb3441be9f75\" class=\"pygal-chart\" viewBox=\"0 0 640 360\" width=\"640\" height=\"360\"><!--Generated with pygal 3.0.0 (lxml) ©Kozea 2012-2016 on 2023-11-27--><!--http://pygal.org--><!--http://github.com/Kozea/pygal--><defs><style type=\"text/css\">#chart-da681cca-e5e1-42a5-931d-eb3441be9f75{-webkit-user-select:none;-webkit-font-smoothing:antialiased;font-family:Consolas,\"Liberation Mono\",Menlo,Courier,monospace}#chart-da681cca-e5e1-42a5-931d-eb3441be9f75 .title{font-family:Consolas,\"Liberation Mono\",Menlo,Courier,monospace;font-size:16px}#chart-da681cca-e5e1-42a5-931d-eb3441be9f75 .legends .legend text{font-family:Consolas,\"Liberation Mono\",Menlo,Courier,monospace;font-size:14px}#chart-da681cca-e5e1-42a5-931d-eb3441be9f75 .axis text{font-family:Consolas,\"Liberation Mono\",Menlo,Courier,monospace;font-size:10px}#chart-da681cca-e5e1-42a5-931d-eb3441be9f75 .axis text.major{font-family:Consolas,\"Liberation Mono\",Menlo,Courier,monospace;font-size:10px}#chart-da681cca-e5e1-42a5-931d-eb3441be9f75 .text-overlay text.value{font-family:Consolas,\"Liberation Mono\",Menlo,Courier,monospace;font-size:16px}#chart-da681cca-e5e1-42a5-931d-eb3441be9f75 .text-overlay text.label{font-family:Consolas,\"Liberation Mono\",Menlo,Courier,monospace;font-size:10px}#chart-da681cca-e5e1-42a5-931d-eb3441be9f75 .tooltip{font-family:Consolas,\"Liberation Mono\",Menlo,Courier,monospace;font-size:14px}#chart-da681cca-e5e1-42a5-931d-eb3441be9f75 text.no_data{font-family:Consolas,\"Liberation Mono\",Menlo,Courier,monospace;font-size:64px}\n",
       "#chart-da681cca-e5e1-42a5-931d-eb3441be9f75{background-color:black}#chart-da681cca-e5e1-42a5-931d-eb3441be9f75 path,#chart-da681cca-e5e1-42a5-931d-eb3441be9f75 line,#chart-da681cca-e5e1-42a5-931d-eb3441be9f75 rect,#chart-da681cca-e5e1-42a5-931d-eb3441be9f75 circle{-webkit-transition:250ms;-moz-transition:250ms;transition:250ms}#chart-da681cca-e5e1-42a5-931d-eb3441be9f75 .graph &gt; .background{fill:black}#chart-da681cca-e5e1-42a5-931d-eb3441be9f75 .plot &gt; .background{fill:#111}#chart-da681cca-e5e1-42a5-931d-eb3441be9f75 .graph{fill:#999}#chart-da681cca-e5e1-42a5-931d-eb3441be9f75 text.no_data{fill:#eee}#chart-da681cca-e5e1-42a5-931d-eb3441be9f75 .title{fill:#eee}#chart-da681cca-e5e1-42a5-931d-eb3441be9f75 .legends .legend text{fill:#999}#chart-da681cca-e5e1-42a5-931d-eb3441be9f75 .legends .legend:hover text{fill:#eee}#chart-da681cca-e5e1-42a5-931d-eb3441be9f75 .axis .line{stroke:#eee}#chart-da681cca-e5e1-42a5-931d-eb3441be9f75 .axis .guide.line{stroke:#555}#chart-da681cca-e5e1-42a5-931d-eb3441be9f75 .axis .major.line{stroke:#999}#chart-da681cca-e5e1-42a5-931d-eb3441be9f75 .axis text.major{fill:#eee}#chart-da681cca-e5e1-42a5-931d-eb3441be9f75 .axis.y .guides:hover .guide.line,#chart-da681cca-e5e1-42a5-931d-eb3441be9f75 .line-graph .axis.x .guides:hover .guide.line,#chart-da681cca-e5e1-42a5-931d-eb3441be9f75 .stackedline-graph .axis.x .guides:hover .guide.line,#chart-da681cca-e5e1-42a5-931d-eb3441be9f75 .xy-graph .axis.x .guides:hover .guide.line{stroke:#eee}#chart-da681cca-e5e1-42a5-931d-eb3441be9f75 .axis .guides:hover text{fill:#eee}#chart-da681cca-e5e1-42a5-931d-eb3441be9f75 .reactive{fill-opacity:.8;stroke-opacity:.8;stroke-width:1}#chart-da681cca-e5e1-42a5-931d-eb3441be9f75 .ci{stroke:#999}#chart-da681cca-e5e1-42a5-931d-eb3441be9f75 .reactive.active,#chart-da681cca-e5e1-42a5-931d-eb3441be9f75 .active .reactive{fill-opacity:.4;stroke-opacity:.9;stroke-width:4}#chart-da681cca-e5e1-42a5-931d-eb3441be9f75 .ci .reactive.active{stroke-width:1.5}#chart-da681cca-e5e1-42a5-931d-eb3441be9f75 .series text{fill:#eee}#chart-da681cca-e5e1-42a5-931d-eb3441be9f75 .tooltip rect{fill:#111;stroke:#eee;-webkit-transition:opacity 250ms;-moz-transition:opacity 250ms;transition:opacity 250ms}#chart-da681cca-e5e1-42a5-931d-eb3441be9f75 .tooltip .label{fill:#999}#chart-da681cca-e5e1-42a5-931d-eb3441be9f75 .tooltip .label{fill:#999}#chart-da681cca-e5e1-42a5-931d-eb3441be9f75 .tooltip .legend{font-size:.8em;fill:#555}#chart-da681cca-e5e1-42a5-931d-eb3441be9f75 .tooltip .x_label{font-size:.6em;fill:#eee}#chart-da681cca-e5e1-42a5-931d-eb3441be9f75 .tooltip .xlink{font-size:.5em;text-decoration:underline}#chart-da681cca-e5e1-42a5-931d-eb3441be9f75 .tooltip .value{font-size:1.5em}#chart-da681cca-e5e1-42a5-931d-eb3441be9f75 .bound{font-size:.5em}#chart-da681cca-e5e1-42a5-931d-eb3441be9f75 .max-value{font-size:.75em;fill:#555}#chart-da681cca-e5e1-42a5-931d-eb3441be9f75 .map-element{fill:#111;stroke:#555 !important}#chart-da681cca-e5e1-42a5-931d-eb3441be9f75 .map-element .reactive{fill-opacity:inherit;stroke-opacity:inherit}#chart-da681cca-e5e1-42a5-931d-eb3441be9f75 .color-0,#chart-da681cca-e5e1-42a5-931d-eb3441be9f75 .color-0 a:visited{stroke:#ff5995;fill:#ff5995}#chart-da681cca-e5e1-42a5-931d-eb3441be9f75 .color-1,#chart-da681cca-e5e1-42a5-931d-eb3441be9f75 .color-1 a:visited{stroke:#b6e354;fill:#b6e354}#chart-da681cca-e5e1-42a5-931d-eb3441be9f75 .color-2,#chart-da681cca-e5e1-42a5-931d-eb3441be9f75 .color-2 a:visited{stroke:#feed6c;fill:#feed6c}#chart-da681cca-e5e1-42a5-931d-eb3441be9f75 .text-overlay .color-0 text{fill:black}#chart-da681cca-e5e1-42a5-931d-eb3441be9f75 .text-overlay .color-1 text{fill:black}#chart-da681cca-e5e1-42a5-931d-eb3441be9f75 .text-overlay .color-2 text{fill:black}\n",
       "#chart-da681cca-e5e1-42a5-931d-eb3441be9f75 text.no_data{text-anchor:middle}#chart-da681cca-e5e1-42a5-931d-eb3441be9f75 .guide.line{fill:none}#chart-da681cca-e5e1-42a5-931d-eb3441be9f75 .centered{text-anchor:middle}#chart-da681cca-e5e1-42a5-931d-eb3441be9f75 .title{text-anchor:middle}#chart-da681cca-e5e1-42a5-931d-eb3441be9f75 .legends .legend text{fill-opacity:1}#chart-da681cca-e5e1-42a5-931d-eb3441be9f75 .axis.x text{text-anchor:middle}#chart-da681cca-e5e1-42a5-931d-eb3441be9f75 .axis.x:not(.web) text[transform]{text-anchor:start}#chart-da681cca-e5e1-42a5-931d-eb3441be9f75 .axis.x:not(.web) text[transform].backwards{text-anchor:end}#chart-da681cca-e5e1-42a5-931d-eb3441be9f75 .axis.y text{text-anchor:end}#chart-da681cca-e5e1-42a5-931d-eb3441be9f75 .axis.y text[transform].backwards{text-anchor:start}#chart-da681cca-e5e1-42a5-931d-eb3441be9f75 .axis.y2 text{text-anchor:start}#chart-da681cca-e5e1-42a5-931d-eb3441be9f75 .axis.y2 text[transform].backwards{text-anchor:end}#chart-da681cca-e5e1-42a5-931d-eb3441be9f75 .axis .guide.line{stroke-dasharray:4,4;stroke:black}#chart-da681cca-e5e1-42a5-931d-eb3441be9f75 .axis .major.guide.line{stroke-dasharray:6,6;stroke:black}#chart-da681cca-e5e1-42a5-931d-eb3441be9f75 .horizontal .axis.y .guide.line,#chart-da681cca-e5e1-42a5-931d-eb3441be9f75 .horizontal .axis.y2 .guide.line,#chart-da681cca-e5e1-42a5-931d-eb3441be9f75 .vertical .axis.x .guide.line{opacity:0}#chart-da681cca-e5e1-42a5-931d-eb3441be9f75 .horizontal .axis.always_show .guide.line,#chart-da681cca-e5e1-42a5-931d-eb3441be9f75 .vertical .axis.always_show .guide.line{opacity:1 !important}#chart-da681cca-e5e1-42a5-931d-eb3441be9f75 .axis.y .guides:hover .guide.line,#chart-da681cca-e5e1-42a5-931d-eb3441be9f75 .axis.y2 .guides:hover .guide.line,#chart-da681cca-e5e1-42a5-931d-eb3441be9f75 .axis.x .guides:hover .guide.line{opacity:1}#chart-da681cca-e5e1-42a5-931d-eb3441be9f75 .axis .guides:hover text{opacity:1}#chart-da681cca-e5e1-42a5-931d-eb3441be9f75 .nofill{fill:none}#chart-da681cca-e5e1-42a5-931d-eb3441be9f75 .subtle-fill{fill-opacity:.2}#chart-da681cca-e5e1-42a5-931d-eb3441be9f75 .dot{stroke-width:1px;fill-opacity:1;stroke-opacity:1}#chart-da681cca-e5e1-42a5-931d-eb3441be9f75 .dot.active{stroke-width:5px}#chart-da681cca-e5e1-42a5-931d-eb3441be9f75 .dot.negative{fill:transparent}#chart-da681cca-e5e1-42a5-931d-eb3441be9f75 text,#chart-da681cca-e5e1-42a5-931d-eb3441be9f75 tspan{stroke:none !important}#chart-da681cca-e5e1-42a5-931d-eb3441be9f75 .series text.active{opacity:1}#chart-da681cca-e5e1-42a5-931d-eb3441be9f75 .tooltip rect{fill-opacity:.95;stroke-width:.5}#chart-da681cca-e5e1-42a5-931d-eb3441be9f75 .tooltip text{fill-opacity:1}#chart-da681cca-e5e1-42a5-931d-eb3441be9f75 .showable{visibility:hidden}#chart-da681cca-e5e1-42a5-931d-eb3441be9f75 .showable.shown{visibility:visible}#chart-da681cca-e5e1-42a5-931d-eb3441be9f75 .gauge-background{fill:rgba(229,229,229,1);stroke:none}#chart-da681cca-e5e1-42a5-931d-eb3441be9f75 .bg-lines{stroke:black;stroke-width:2px}</style><script type=\"text/javascript\">window.pygal = window.pygal || {};window.pygal.config = window.pygal.config || {};window.pygal.config['da681cca-e5e1-42a5-931d-eb3441be9f75'] = {\"allow_interruptions\": false, \"box_mode\": \"extremes\", \"classes\": [\"pygal-chart\"], \"css\": [\"file://style.css\", \"file://graph.css\"], \"defs\": [], \"disable_xml_declaration\": false, \"dots_size\": 2.5, \"dynamic_print_values\": false, \"explicit_size\": true, \"fill\": false, \"force_uri_protocol\": \"https\", \"formatter\": null, \"half_pie\": false, \"height\": 360, \"include_x_axis\": false, \"inner_radius\": 0.5, \"interpolate\": null, \"interpolation_parameters\": {}, \"interpolation_precision\": 250, \"inverse_y_axis\": false, \"js\": [\"//kozea.github.io/pygal.js/2.0.x/pygal-tooltips.min.js\"], \"legend_at_bottom\": false, \"legend_at_bottom_columns\": null, \"legend_box_size\": 12, \"logarithmic\": false, \"margin\": 20, \"margin_bottom\": null, \"margin_left\": null, \"margin_right\": null, \"margin_top\": null, \"max_scale\": 16, \"min_scale\": 4, \"missing_value_fill_truncation\": \"x\", \"no_data_text\": \"No data\", \"no_prefix\": false, \"order_min\": null, \"pretty_print\": false, \"print_labels\": false, \"print_values\": false, \"print_values_position\": \"center\", \"print_zeroes\": true, \"range\": null, \"rounded_bars\": null, \"secondary_range\": null, \"show_dots\": true, \"show_legend\": true, \"show_minor_x_labels\": true, \"show_minor_y_labels\": true, \"show_only_major_dots\": false, \"show_x_guides\": false, \"show_x_labels\": true, \"show_y_guides\": true, \"show_y_labels\": true, \"spacing\": 10, \"stack_from_top\": false, \"strict\": false, \"stroke\": true, \"stroke_style\": null, \"style\": {\"background\": \"black\", \"ci_colors\": [], \"colors\": [\"#ff5995\", \"#b6e354\", \"#feed6c\", \"#8cedff\", \"#9e6ffe\", \"#899ca1\", \"#f8f8f2\", \"#bf4646\", \"#516083\", \"#f92672\", \"#82b414\", \"#fd971f\", \"#56c2d6\", \"#808384\", \"#8c54fe\", \"#465457\"], \"dot_opacity\": \"1\", \"font_family\": \"Consolas, \\\"Liberation Mono\\\", Menlo, Courier, monospace\", \"foreground\": \"#999\", \"foreground_strong\": \"#eee\", \"foreground_subtle\": \"#555\", \"guide_stroke_color\": \"black\", \"guide_stroke_dasharray\": \"4,4\", \"label_font_family\": \"Consolas, \\\"Liberation Mono\\\", Menlo, Courier, monospace\", \"label_font_size\": 10, \"legend_font_family\": \"Consolas, \\\"Liberation Mono\\\", Menlo, Courier, monospace\", \"legend_font_size\": 14, \"major_guide_stroke_color\": \"black\", \"major_guide_stroke_dasharray\": \"6,6\", \"major_label_font_family\": \"Consolas, \\\"Liberation Mono\\\", Menlo, Courier, monospace\", \"major_label_font_size\": 10, \"no_data_font_family\": \"Consolas, \\\"Liberation Mono\\\", Menlo, Courier, monospace\", \"no_data_font_size\": 64, \"opacity\": \".8\", \"opacity_hover\": \".4\", \"plot_background\": \"#111\", \"stroke_opacity\": \".8\", \"stroke_opacity_hover\": \".9\", \"stroke_width\": \"1\", \"stroke_width_hover\": \"4\", \"title_font_family\": \"Consolas, \\\"Liberation Mono\\\", Menlo, Courier, monospace\", \"title_font_size\": 16, \"tooltip_font_family\": \"Consolas, \\\"Liberation Mono\\\", Menlo, Courier, monospace\", \"tooltip_font_size\": 14, \"transition\": \"250ms\", \"value_background\": \"rgba(229, 229, 229, 1)\", \"value_colors\": [], \"value_font_family\": \"Consolas, \\\"Liberation Mono\\\", Menlo, Courier, monospace\", \"value_font_size\": 16, \"value_label_font_family\": \"Consolas, \\\"Liberation Mono\\\", Menlo, Courier, monospace\", \"value_label_font_size\": 10}, \"title\": \"Wines by Quality\", \"tooltip_border_radius\": 0, \"tooltip_fancy_mode\": true, \"truncate_label\": null, \"truncate_legend\": null, \"width\": 640, \"x_label_rotation\": 0, \"x_labels\": null, \"x_labels_major\": null, \"x_labels_major_count\": null, \"x_labels_major_every\": null, \"x_title\": null, \"xrange\": null, \"y_label_rotation\": 0, \"y_labels\": null, \"y_labels_major\": null, \"y_labels_major_count\": null, \"y_labels_major_every\": null, \"y_title\": null, \"zero\": 0, \"legends\": [\"High Quality\", \"Medium Quality\", \"Low Quality\"]}</script><script type=\"text/javascript\" xlink:href=\"https://kozea.github.io/pygal.js/2.0.x/pygal-tooltips.min.js\"/></defs><title>Wines by Quality</title><g class=\"graph pie-graph vertical\"><rect x=\"0\" y=\"0\" width=\"640\" height=\"360\" class=\"background\"/><g transform=\"translate(159, 46)\" class=\"plot\"><rect x=\"0\" y=\"0\" width=\"460.4\" height=\"294\" class=\"background\"/><g class=\"series serie-0 color-0\"><g class=\"slices\"><g class=\"slice\"><path d=\"M230.200000 14.700000 A132.300000 132.300000 0 0 1 329.828912 59.951910 L285.549395 98.639950 A73.500000 73.500000 0 0 0 230.200000 73.500000 z\" class=\"slice reactive tooltip-trigger\"/><desc class=\"value\">217</desc><desc class=\"x centered\">272.75385536203316</desc><desc class=\"y centered\">53.311263249912685</desc></g></g></g><g class=\"series serie-1 color-1\"><g class=\"slices\"><g class=\"slice\"><path d=\"M329.828912 59.951910 A132.300000 132.300000 0 1 1 197.781953 18.733246 L212.189974 75.740692 A73.500000 73.500000 0 1 0 285.549395 98.639950 z\" class=\"slice reactive tooltip-trigger\"/><desc class=\"value\">1319</desc><desc class=\"x centered\">199.53868546560844</desc><desc class=\"y centered\">245.2257287630034</desc></g></g></g><g class=\"series serie-2 color-2\"><g class=\"slices\"><g class=\"slice\"><path d=\"M197.781953 18.733246 A132.300000 132.300000 0 0 1 230.200000 14.700000 L230.200000 73.500000 A73.500000 73.500000 0 0 0 212.189974 75.740692 z\" class=\"slice reactive tooltip-trigger\"/><desc class=\"value\">63</desc><desc class=\"x centered\">217.49578592043812</desc><desc class=\"y centered\">44.88725376026427</desc></g></g></g></g><g class=\"titles\"><text x=\"320.0\" y=\"26\" class=\"title plot_title\">Wines by Quality</text></g><g transform=\"translate(159, 46)\" class=\"plot overlay\"><g class=\"series serie-0 color-0\"/><g class=\"series serie-1 color-1\"/><g class=\"series serie-2 color-2\"/></g><g transform=\"translate(159, 46)\" class=\"plot text-overlay\"><g class=\"series serie-0 color-0\"/><g class=\"series serie-1 color-1\"/><g class=\"series serie-2 color-2\"/></g><g transform=\"translate(159, 46)\" class=\"plot tooltip-overlay\"><g transform=\"translate(0 0)\" style=\"opacity: 0\" class=\"tooltip\"><rect rx=\"0\" ry=\"0\" width=\"0\" height=\"0\" class=\"tooltip-box\"/><g class=\"text\"/></g></g><g transform=\"translate(10, 56)\" class=\"legends\"><g id=\"activate-serie-0\" class=\"legend reactive activate-serie\"><rect x=\"0.0\" y=\"1.0\" width=\"12\" height=\"12\" class=\"color-0 reactive\"/><text x=\"17.0\" y=\"11.2\">High Quality</text></g><g id=\"activate-serie-1\" class=\"legend reactive activate-serie\"><rect x=\"0.0\" y=\"22.0\" width=\"12\" height=\"12\" class=\"color-1 reactive\"/><text x=\"17.0\" y=\"32.2\">Medium Quality</text></g><g id=\"activate-serie-2\" class=\"legend reactive activate-serie\"><rect x=\"0.0\" y=\"43.0\" width=\"12\" height=\"12\" class=\"color-2 reactive\"/><text x=\"17.0\" y=\"53.2\">Low Quality</text></g></g><g transform=\"translate(630, 56)\" class=\"legends\"/></g></svg>\n",
       "    </figure>\n",
       "  </body>\n",
       "</html>\n"
      ],
      "text/plain": [
       "<IPython.core.display.HTML object>"
      ]
     },
     "metadata": {},
     "output_type": "display_data"
    }
   ],
   "source": [
    "pie_chart.title = 'Wines by Quality'\n",
    "\n",
    "pie_chart.add('High Quality', num_high_quality)\n",
    "pie_chart.add('Medium Quality', num_med_quality)\n",
    "pie_chart.add('Low Quality', num_low_quality)\n",
    "\n",
    "display_chart(pie_chart)"
   ]
  },
  {
   "cell_type": "code",
   "execution_count": 49,
   "metadata": {
    "collapsed": true
   },
   "outputs": [],
   "source": [
    "pie_chart = pygal.Pie(width = 640,\n",
    "                      height = 360,\n",
    "                      explicit_size = True,\n",
    "                      style = DarkStyle,\n",
    "                      half_pie = True)"
   ]
  },
  {
   "cell_type": "code",
   "execution_count": 50,
   "metadata": {},
   "outputs": [
    {
     "data": {
      "text/html": [
       "\n",
       "<!DOCTYPE html>\n",
       "<html>\n",
       "  <head>\n",
       "  <script type=\"text/javascript\" \n",
       "          src=\"http://kozea.github.com/pygal.js/javascripts/svg.jquery.js\">\n",
       "  </script>\n",
       "  <script type=\"text/javascript\" \n",
       "          src=\"https://kozea.github.io/pygal.js/2.0.x/pygal-tooltips.min.js\"\">\n",
       "  </script>\n",
       "  </head>\n",
       "  <body>\n",
       "    <figure>\n",
       "      <?xml version='1.0' encoding='utf-8'?>\n",
       "<svg xmlns=\"http://www.w3.org/2000/svg\" xmlns:xlink=\"http://www.w3.org/1999/xlink\" id=\"chart-4c7846a7-a7f2-4c60-bab6-d340bc3c0183\" class=\"pygal-chart\" viewBox=\"0 0 640 360\" width=\"640\" height=\"360\"><!--Generated with pygal 3.0.0 (lxml) ©Kozea 2012-2016 on 2023-11-27--><!--http://pygal.org--><!--http://github.com/Kozea/pygal--><defs><style type=\"text/css\">#chart-4c7846a7-a7f2-4c60-bab6-d340bc3c0183{-webkit-user-select:none;-webkit-font-smoothing:antialiased;font-family:Consolas,\"Liberation Mono\",Menlo,Courier,monospace}#chart-4c7846a7-a7f2-4c60-bab6-d340bc3c0183 .title{font-family:Consolas,\"Liberation Mono\",Menlo,Courier,monospace;font-size:16px}#chart-4c7846a7-a7f2-4c60-bab6-d340bc3c0183 .legends .legend text{font-family:Consolas,\"Liberation Mono\",Menlo,Courier,monospace;font-size:14px}#chart-4c7846a7-a7f2-4c60-bab6-d340bc3c0183 .axis text{font-family:Consolas,\"Liberation Mono\",Menlo,Courier,monospace;font-size:10px}#chart-4c7846a7-a7f2-4c60-bab6-d340bc3c0183 .axis text.major{font-family:Consolas,\"Liberation Mono\",Menlo,Courier,monospace;font-size:10px}#chart-4c7846a7-a7f2-4c60-bab6-d340bc3c0183 .text-overlay text.value{font-family:Consolas,\"Liberation Mono\",Menlo,Courier,monospace;font-size:16px}#chart-4c7846a7-a7f2-4c60-bab6-d340bc3c0183 .text-overlay text.label{font-family:Consolas,\"Liberation Mono\",Menlo,Courier,monospace;font-size:10px}#chart-4c7846a7-a7f2-4c60-bab6-d340bc3c0183 .tooltip{font-family:Consolas,\"Liberation Mono\",Menlo,Courier,monospace;font-size:14px}#chart-4c7846a7-a7f2-4c60-bab6-d340bc3c0183 text.no_data{font-family:Consolas,\"Liberation Mono\",Menlo,Courier,monospace;font-size:64px}\n",
       "#chart-4c7846a7-a7f2-4c60-bab6-d340bc3c0183{background-color:black}#chart-4c7846a7-a7f2-4c60-bab6-d340bc3c0183 path,#chart-4c7846a7-a7f2-4c60-bab6-d340bc3c0183 line,#chart-4c7846a7-a7f2-4c60-bab6-d340bc3c0183 rect,#chart-4c7846a7-a7f2-4c60-bab6-d340bc3c0183 circle{-webkit-transition:250ms;-moz-transition:250ms;transition:250ms}#chart-4c7846a7-a7f2-4c60-bab6-d340bc3c0183 .graph &gt; .background{fill:black}#chart-4c7846a7-a7f2-4c60-bab6-d340bc3c0183 .plot &gt; .background{fill:#111}#chart-4c7846a7-a7f2-4c60-bab6-d340bc3c0183 .graph{fill:#999}#chart-4c7846a7-a7f2-4c60-bab6-d340bc3c0183 text.no_data{fill:#eee}#chart-4c7846a7-a7f2-4c60-bab6-d340bc3c0183 .title{fill:#eee}#chart-4c7846a7-a7f2-4c60-bab6-d340bc3c0183 .legends .legend text{fill:#999}#chart-4c7846a7-a7f2-4c60-bab6-d340bc3c0183 .legends .legend:hover text{fill:#eee}#chart-4c7846a7-a7f2-4c60-bab6-d340bc3c0183 .axis .line{stroke:#eee}#chart-4c7846a7-a7f2-4c60-bab6-d340bc3c0183 .axis .guide.line{stroke:#555}#chart-4c7846a7-a7f2-4c60-bab6-d340bc3c0183 .axis .major.line{stroke:#999}#chart-4c7846a7-a7f2-4c60-bab6-d340bc3c0183 .axis text.major{fill:#eee}#chart-4c7846a7-a7f2-4c60-bab6-d340bc3c0183 .axis.y .guides:hover .guide.line,#chart-4c7846a7-a7f2-4c60-bab6-d340bc3c0183 .line-graph .axis.x .guides:hover .guide.line,#chart-4c7846a7-a7f2-4c60-bab6-d340bc3c0183 .stackedline-graph .axis.x .guides:hover .guide.line,#chart-4c7846a7-a7f2-4c60-bab6-d340bc3c0183 .xy-graph .axis.x .guides:hover .guide.line{stroke:#eee}#chart-4c7846a7-a7f2-4c60-bab6-d340bc3c0183 .axis .guides:hover text{fill:#eee}#chart-4c7846a7-a7f2-4c60-bab6-d340bc3c0183 .reactive{fill-opacity:.8;stroke-opacity:.8;stroke-width:1}#chart-4c7846a7-a7f2-4c60-bab6-d340bc3c0183 .ci{stroke:#999}#chart-4c7846a7-a7f2-4c60-bab6-d340bc3c0183 .reactive.active,#chart-4c7846a7-a7f2-4c60-bab6-d340bc3c0183 .active .reactive{fill-opacity:.4;stroke-opacity:.9;stroke-width:4}#chart-4c7846a7-a7f2-4c60-bab6-d340bc3c0183 .ci .reactive.active{stroke-width:1.5}#chart-4c7846a7-a7f2-4c60-bab6-d340bc3c0183 .series text{fill:#eee}#chart-4c7846a7-a7f2-4c60-bab6-d340bc3c0183 .tooltip rect{fill:#111;stroke:#eee;-webkit-transition:opacity 250ms;-moz-transition:opacity 250ms;transition:opacity 250ms}#chart-4c7846a7-a7f2-4c60-bab6-d340bc3c0183 .tooltip .label{fill:#999}#chart-4c7846a7-a7f2-4c60-bab6-d340bc3c0183 .tooltip .label{fill:#999}#chart-4c7846a7-a7f2-4c60-bab6-d340bc3c0183 .tooltip .legend{font-size:.8em;fill:#555}#chart-4c7846a7-a7f2-4c60-bab6-d340bc3c0183 .tooltip .x_label{font-size:.6em;fill:#eee}#chart-4c7846a7-a7f2-4c60-bab6-d340bc3c0183 .tooltip .xlink{font-size:.5em;text-decoration:underline}#chart-4c7846a7-a7f2-4c60-bab6-d340bc3c0183 .tooltip .value{font-size:1.5em}#chart-4c7846a7-a7f2-4c60-bab6-d340bc3c0183 .bound{font-size:.5em}#chart-4c7846a7-a7f2-4c60-bab6-d340bc3c0183 .max-value{font-size:.75em;fill:#555}#chart-4c7846a7-a7f2-4c60-bab6-d340bc3c0183 .map-element{fill:#111;stroke:#555 !important}#chart-4c7846a7-a7f2-4c60-bab6-d340bc3c0183 .map-element .reactive{fill-opacity:inherit;stroke-opacity:inherit}#chart-4c7846a7-a7f2-4c60-bab6-d340bc3c0183 .color-0,#chart-4c7846a7-a7f2-4c60-bab6-d340bc3c0183 .color-0 a:visited{stroke:#ff5995;fill:#ff5995}#chart-4c7846a7-a7f2-4c60-bab6-d340bc3c0183 .color-1,#chart-4c7846a7-a7f2-4c60-bab6-d340bc3c0183 .color-1 a:visited{stroke:#b6e354;fill:#b6e354}#chart-4c7846a7-a7f2-4c60-bab6-d340bc3c0183 .color-2,#chart-4c7846a7-a7f2-4c60-bab6-d340bc3c0183 .color-2 a:visited{stroke:#feed6c;fill:#feed6c}#chart-4c7846a7-a7f2-4c60-bab6-d340bc3c0183 .text-overlay .color-0 text{fill:black}#chart-4c7846a7-a7f2-4c60-bab6-d340bc3c0183 .text-overlay .color-1 text{fill:black}#chart-4c7846a7-a7f2-4c60-bab6-d340bc3c0183 .text-overlay .color-2 text{fill:black}\n",
       "#chart-4c7846a7-a7f2-4c60-bab6-d340bc3c0183 text.no_data{text-anchor:middle}#chart-4c7846a7-a7f2-4c60-bab6-d340bc3c0183 .guide.line{fill:none}#chart-4c7846a7-a7f2-4c60-bab6-d340bc3c0183 .centered{text-anchor:middle}#chart-4c7846a7-a7f2-4c60-bab6-d340bc3c0183 .title{text-anchor:middle}#chart-4c7846a7-a7f2-4c60-bab6-d340bc3c0183 .legends .legend text{fill-opacity:1}#chart-4c7846a7-a7f2-4c60-bab6-d340bc3c0183 .axis.x text{text-anchor:middle}#chart-4c7846a7-a7f2-4c60-bab6-d340bc3c0183 .axis.x:not(.web) text[transform]{text-anchor:start}#chart-4c7846a7-a7f2-4c60-bab6-d340bc3c0183 .axis.x:not(.web) text[transform].backwards{text-anchor:end}#chart-4c7846a7-a7f2-4c60-bab6-d340bc3c0183 .axis.y text{text-anchor:end}#chart-4c7846a7-a7f2-4c60-bab6-d340bc3c0183 .axis.y text[transform].backwards{text-anchor:start}#chart-4c7846a7-a7f2-4c60-bab6-d340bc3c0183 .axis.y2 text{text-anchor:start}#chart-4c7846a7-a7f2-4c60-bab6-d340bc3c0183 .axis.y2 text[transform].backwards{text-anchor:end}#chart-4c7846a7-a7f2-4c60-bab6-d340bc3c0183 .axis .guide.line{stroke-dasharray:4,4;stroke:black}#chart-4c7846a7-a7f2-4c60-bab6-d340bc3c0183 .axis .major.guide.line{stroke-dasharray:6,6;stroke:black}#chart-4c7846a7-a7f2-4c60-bab6-d340bc3c0183 .horizontal .axis.y .guide.line,#chart-4c7846a7-a7f2-4c60-bab6-d340bc3c0183 .horizontal .axis.y2 .guide.line,#chart-4c7846a7-a7f2-4c60-bab6-d340bc3c0183 .vertical .axis.x .guide.line{opacity:0}#chart-4c7846a7-a7f2-4c60-bab6-d340bc3c0183 .horizontal .axis.always_show .guide.line,#chart-4c7846a7-a7f2-4c60-bab6-d340bc3c0183 .vertical .axis.always_show .guide.line{opacity:1 !important}#chart-4c7846a7-a7f2-4c60-bab6-d340bc3c0183 .axis.y .guides:hover .guide.line,#chart-4c7846a7-a7f2-4c60-bab6-d340bc3c0183 .axis.y2 .guides:hover .guide.line,#chart-4c7846a7-a7f2-4c60-bab6-d340bc3c0183 .axis.x .guides:hover .guide.line{opacity:1}#chart-4c7846a7-a7f2-4c60-bab6-d340bc3c0183 .axis .guides:hover text{opacity:1}#chart-4c7846a7-a7f2-4c60-bab6-d340bc3c0183 .nofill{fill:none}#chart-4c7846a7-a7f2-4c60-bab6-d340bc3c0183 .subtle-fill{fill-opacity:.2}#chart-4c7846a7-a7f2-4c60-bab6-d340bc3c0183 .dot{stroke-width:1px;fill-opacity:1;stroke-opacity:1}#chart-4c7846a7-a7f2-4c60-bab6-d340bc3c0183 .dot.active{stroke-width:5px}#chart-4c7846a7-a7f2-4c60-bab6-d340bc3c0183 .dot.negative{fill:transparent}#chart-4c7846a7-a7f2-4c60-bab6-d340bc3c0183 text,#chart-4c7846a7-a7f2-4c60-bab6-d340bc3c0183 tspan{stroke:none !important}#chart-4c7846a7-a7f2-4c60-bab6-d340bc3c0183 .series text.active{opacity:1}#chart-4c7846a7-a7f2-4c60-bab6-d340bc3c0183 .tooltip rect{fill-opacity:.95;stroke-width:.5}#chart-4c7846a7-a7f2-4c60-bab6-d340bc3c0183 .tooltip text{fill-opacity:1}#chart-4c7846a7-a7f2-4c60-bab6-d340bc3c0183 .showable{visibility:hidden}#chart-4c7846a7-a7f2-4c60-bab6-d340bc3c0183 .showable.shown{visibility:visible}#chart-4c7846a7-a7f2-4c60-bab6-d340bc3c0183 .gauge-background{fill:rgba(229,229,229,1);stroke:none}#chart-4c7846a7-a7f2-4c60-bab6-d340bc3c0183 .bg-lines{stroke:black;stroke-width:2px}</style><script type=\"text/javascript\">window.pygal = window.pygal || {};window.pygal.config = window.pygal.config || {};window.pygal.config['4c7846a7-a7f2-4c60-bab6-d340bc3c0183'] = {\"allow_interruptions\": false, \"box_mode\": \"extremes\", \"classes\": [\"pygal-chart\"], \"css\": [\"file://style.css\", \"file://graph.css\"], \"defs\": [], \"disable_xml_declaration\": false, \"dots_size\": 2.5, \"dynamic_print_values\": false, \"explicit_size\": true, \"fill\": false, \"force_uri_protocol\": \"https\", \"formatter\": null, \"half_pie\": true, \"height\": 360, \"include_x_axis\": false, \"inner_radius\": 0, \"interpolate\": null, \"interpolation_parameters\": {}, \"interpolation_precision\": 250, \"inverse_y_axis\": false, \"js\": [\"//kozea.github.io/pygal.js/2.0.x/pygal-tooltips.min.js\"], \"legend_at_bottom\": false, \"legend_at_bottom_columns\": null, \"legend_box_size\": 12, \"logarithmic\": false, \"margin\": 20, \"margin_bottom\": null, \"margin_left\": null, \"margin_right\": null, \"margin_top\": null, \"max_scale\": 16, \"min_scale\": 4, \"missing_value_fill_truncation\": \"x\", \"no_data_text\": \"No data\", \"no_prefix\": false, \"order_min\": null, \"pretty_print\": false, \"print_labels\": false, \"print_values\": false, \"print_values_position\": \"center\", \"print_zeroes\": true, \"range\": null, \"rounded_bars\": null, \"secondary_range\": null, \"show_dots\": true, \"show_legend\": true, \"show_minor_x_labels\": true, \"show_minor_y_labels\": true, \"show_only_major_dots\": false, \"show_x_guides\": false, \"show_x_labels\": true, \"show_y_guides\": true, \"show_y_labels\": true, \"spacing\": 10, \"stack_from_top\": false, \"strict\": false, \"stroke\": true, \"stroke_style\": null, \"style\": {\"background\": \"black\", \"ci_colors\": [], \"colors\": [\"#ff5995\", \"#b6e354\", \"#feed6c\", \"#8cedff\", \"#9e6ffe\", \"#899ca1\", \"#f8f8f2\", \"#bf4646\", \"#516083\", \"#f92672\", \"#82b414\", \"#fd971f\", \"#56c2d6\", \"#808384\", \"#8c54fe\", \"#465457\"], \"dot_opacity\": \"1\", \"font_family\": \"Consolas, \\\"Liberation Mono\\\", Menlo, Courier, monospace\", \"foreground\": \"#999\", \"foreground_strong\": \"#eee\", \"foreground_subtle\": \"#555\", \"guide_stroke_color\": \"black\", \"guide_stroke_dasharray\": \"4,4\", \"label_font_family\": \"Consolas, \\\"Liberation Mono\\\", Menlo, Courier, monospace\", \"label_font_size\": 10, \"legend_font_family\": \"Consolas, \\\"Liberation Mono\\\", Menlo, Courier, monospace\", \"legend_font_size\": 14, \"major_guide_stroke_color\": \"black\", \"major_guide_stroke_dasharray\": \"6,6\", \"major_label_font_family\": \"Consolas, \\\"Liberation Mono\\\", Menlo, Courier, monospace\", \"major_label_font_size\": 10, \"no_data_font_family\": \"Consolas, \\\"Liberation Mono\\\", Menlo, Courier, monospace\", \"no_data_font_size\": 64, \"opacity\": \".8\", \"opacity_hover\": \".4\", \"plot_background\": \"#111\", \"stroke_opacity\": \".8\", \"stroke_opacity_hover\": \".9\", \"stroke_width\": \"1\", \"stroke_width_hover\": \"4\", \"title_font_family\": \"Consolas, \\\"Liberation Mono\\\", Menlo, Courier, monospace\", \"title_font_size\": 16, \"tooltip_font_family\": \"Consolas, \\\"Liberation Mono\\\", Menlo, Courier, monospace\", \"tooltip_font_size\": 14, \"transition\": \"250ms\", \"value_background\": \"rgba(229, 229, 229, 1)\", \"value_colors\": [], \"value_font_family\": \"Consolas, \\\"Liberation Mono\\\", Menlo, Courier, monospace\", \"value_font_size\": 16, \"value_label_font_family\": \"Consolas, \\\"Liberation Mono\\\", Menlo, Courier, monospace\", \"value_label_font_size\": 10}, \"title\": \"Wines by Quality\", \"tooltip_border_radius\": 0, \"tooltip_fancy_mode\": true, \"truncate_label\": null, \"truncate_legend\": null, \"width\": 640, \"x_label_rotation\": 0, \"x_labels\": null, \"x_labels_major\": null, \"x_labels_major_count\": null, \"x_labels_major_every\": null, \"x_title\": null, \"xrange\": null, \"y_label_rotation\": 0, \"y_labels\": null, \"y_labels_major\": null, \"y_labels_major_count\": null, \"y_labels_major_every\": null, \"y_title\": null, \"zero\": 0, \"legends\": [\"High Quality\", \"Medium Quality\", \"Low Quality\"]}</script><script type=\"text/javascript\" xlink:href=\"https://kozea.github.io/pygal.js/2.0.x/pygal-tooltips.min.js\"/></defs><title>Wines by Quality</title><g class=\"graph pie-graph vertical\"><rect x=\"0\" y=\"0\" width=\"640\" height=\"360\" class=\"background\"/><g transform=\"translate(159, 46)\" class=\"plot\"><rect x=\"0\" y=\"0\" width=\"460.4\" height=\"294\" class=\"background\"/><g class=\"series serie-0 color-0\"><g class=\"slices\"><g class=\"slice\"><path d=\"M23.020000 235.200000 A207.180000 207.180000 0 0 1 41.566059 149.521596 L230.200000 235.200000 A0.000000 0.000000 0 0 0 230.200000 235.200000 z\" class=\"slice reactive tooltip-trigger\"/><desc class=\"value\">217</desc><desc class=\"x centered\">128.95479505324164</desc><desc class=\"y centered\">213.28433037096747</desc></g></g></g><g class=\"series serie-1 color-1\"><g class=\"slices\"><g class=\"slice\"><path d=\"M41.566059 149.521596 A207.180000 207.180000 0 0 1 435.794935 209.621195 L230.200000 235.200000 A0.000000 0.000000 0 0 0 230.200000 235.200000 z\" class=\"slice reactive tooltip-trigger\"/><desc class=\"value\">1319</desc><desc class=\"x centered\">245.81176850353182</desc><desc class=\"y centered\">132.7931604618513</desc></g></g></g><g class=\"series serie-2 color-2\"><g class=\"slices\"><g class=\"slice\"><path d=\"M435.794935 209.621195 A207.180000 207.180000 0 0 1 437.380000 235.200000 L230.200000 235.200000 A0.000000 0.000000 0 0 0 230.200000 235.200000 z\" class=\"slice reactive tooltip-trigger\"/><desc class=\"value\">63</desc><desc class=\"x centered\">333.59167697497827</desc><desc class=\"y centered\">228.79303251906578</desc></g></g></g></g><g class=\"titles\"><text x=\"320.0\" y=\"26\" class=\"title plot_title\">Wines by Quality</text></g><g transform=\"translate(159, 46)\" class=\"plot overlay\"><g class=\"series serie-0 color-0\"/><g class=\"series serie-1 color-1\"/><g class=\"series serie-2 color-2\"/></g><g transform=\"translate(159, 46)\" class=\"plot text-overlay\"><g class=\"series serie-0 color-0\"/><g class=\"series serie-1 color-1\"/><g class=\"series serie-2 color-2\"/></g><g transform=\"translate(159, 46)\" class=\"plot tooltip-overlay\"><g transform=\"translate(0 0)\" style=\"opacity: 0\" class=\"tooltip\"><rect rx=\"0\" ry=\"0\" width=\"0\" height=\"0\" class=\"tooltip-box\"/><g class=\"text\"/></g></g><g transform=\"translate(10, 56)\" class=\"legends\"><g id=\"activate-serie-0\" class=\"legend reactive activate-serie\"><rect x=\"0.0\" y=\"1.0\" width=\"12\" height=\"12\" class=\"color-0 reactive\"/><text x=\"17.0\" y=\"11.2\">High Quality</text></g><g id=\"activate-serie-1\" class=\"legend reactive activate-serie\"><rect x=\"0.0\" y=\"22.0\" width=\"12\" height=\"12\" class=\"color-1 reactive\"/><text x=\"17.0\" y=\"32.2\">Medium Quality</text></g><g id=\"activate-serie-2\" class=\"legend reactive activate-serie\"><rect x=\"0.0\" y=\"43.0\" width=\"12\" height=\"12\" class=\"color-2 reactive\"/><text x=\"17.0\" y=\"53.2\">Low Quality</text></g></g><g transform=\"translate(630, 56)\" class=\"legends\"/></g></svg>\n",
       "    </figure>\n",
       "  </body>\n",
       "</html>\n"
      ],
      "text/plain": [
       "<IPython.core.display.HTML object>"
      ]
     },
     "metadata": {},
     "output_type": "display_data"
    }
   ],
   "source": [
    "pie_chart.title = 'Wines by Quality'\n",
    "\n",
    "pie_chart.add('High Quality', num_high_quality)\n",
    "pie_chart.add('Medium Quality', num_med_quality)\n",
    "pie_chart.add('Low Quality', num_low_quality)\n",
    "\n",
    "display_chart(pie_chart)"
   ]
  },
  {
   "cell_type": "code",
   "execution_count": 51,
   "metadata": {
    "collapsed": true
   },
   "outputs": [],
   "source": [
    "pie_chart = pygal.Pie(width = 640,\n",
    "                      height = 360,\n",
    "                      explicit_size = True,\n",
    "                      style = DarkStyle,\n",
    "                      half_pie = True, \n",
    "                      inner_radius = .5)"
   ]
  },
  {
   "cell_type": "code",
   "execution_count": 52,
   "metadata": {},
   "outputs": [
    {
     "data": {
      "text/html": [
       "\n",
       "<!DOCTYPE html>\n",
       "<html>\n",
       "  <head>\n",
       "  <script type=\"text/javascript\" \n",
       "          src=\"http://kozea.github.com/pygal.js/javascripts/svg.jquery.js\">\n",
       "  </script>\n",
       "  <script type=\"text/javascript\" \n",
       "          src=\"https://kozea.github.io/pygal.js/2.0.x/pygal-tooltips.min.js\"\">\n",
       "  </script>\n",
       "  </head>\n",
       "  <body>\n",
       "    <figure>\n",
       "      <?xml version='1.0' encoding='utf-8'?>\n",
       "<svg xmlns=\"http://www.w3.org/2000/svg\" xmlns:xlink=\"http://www.w3.org/1999/xlink\" id=\"chart-0b723509-8831-426f-9da4-cfce6817bfe7\" class=\"pygal-chart\" viewBox=\"0 0 640 360\" width=\"640\" height=\"360\"><!--Generated with pygal 3.0.0 (lxml) ©Kozea 2012-2016 on 2023-11-27--><!--http://pygal.org--><!--http://github.com/Kozea/pygal--><defs><style type=\"text/css\">#chart-0b723509-8831-426f-9da4-cfce6817bfe7{-webkit-user-select:none;-webkit-font-smoothing:antialiased;font-family:Consolas,\"Liberation Mono\",Menlo,Courier,monospace}#chart-0b723509-8831-426f-9da4-cfce6817bfe7 .title{font-family:Consolas,\"Liberation Mono\",Menlo,Courier,monospace;font-size:16px}#chart-0b723509-8831-426f-9da4-cfce6817bfe7 .legends .legend text{font-family:Consolas,\"Liberation Mono\",Menlo,Courier,monospace;font-size:14px}#chart-0b723509-8831-426f-9da4-cfce6817bfe7 .axis text{font-family:Consolas,\"Liberation Mono\",Menlo,Courier,monospace;font-size:10px}#chart-0b723509-8831-426f-9da4-cfce6817bfe7 .axis text.major{font-family:Consolas,\"Liberation Mono\",Menlo,Courier,monospace;font-size:10px}#chart-0b723509-8831-426f-9da4-cfce6817bfe7 .text-overlay text.value{font-family:Consolas,\"Liberation Mono\",Menlo,Courier,monospace;font-size:16px}#chart-0b723509-8831-426f-9da4-cfce6817bfe7 .text-overlay text.label{font-family:Consolas,\"Liberation Mono\",Menlo,Courier,monospace;font-size:10px}#chart-0b723509-8831-426f-9da4-cfce6817bfe7 .tooltip{font-family:Consolas,\"Liberation Mono\",Menlo,Courier,monospace;font-size:14px}#chart-0b723509-8831-426f-9da4-cfce6817bfe7 text.no_data{font-family:Consolas,\"Liberation Mono\",Menlo,Courier,monospace;font-size:64px}\n",
       "#chart-0b723509-8831-426f-9da4-cfce6817bfe7{background-color:black}#chart-0b723509-8831-426f-9da4-cfce6817bfe7 path,#chart-0b723509-8831-426f-9da4-cfce6817bfe7 line,#chart-0b723509-8831-426f-9da4-cfce6817bfe7 rect,#chart-0b723509-8831-426f-9da4-cfce6817bfe7 circle{-webkit-transition:250ms;-moz-transition:250ms;transition:250ms}#chart-0b723509-8831-426f-9da4-cfce6817bfe7 .graph &gt; .background{fill:black}#chart-0b723509-8831-426f-9da4-cfce6817bfe7 .plot &gt; .background{fill:#111}#chart-0b723509-8831-426f-9da4-cfce6817bfe7 .graph{fill:#999}#chart-0b723509-8831-426f-9da4-cfce6817bfe7 text.no_data{fill:#eee}#chart-0b723509-8831-426f-9da4-cfce6817bfe7 .title{fill:#eee}#chart-0b723509-8831-426f-9da4-cfce6817bfe7 .legends .legend text{fill:#999}#chart-0b723509-8831-426f-9da4-cfce6817bfe7 .legends .legend:hover text{fill:#eee}#chart-0b723509-8831-426f-9da4-cfce6817bfe7 .axis .line{stroke:#eee}#chart-0b723509-8831-426f-9da4-cfce6817bfe7 .axis .guide.line{stroke:#555}#chart-0b723509-8831-426f-9da4-cfce6817bfe7 .axis .major.line{stroke:#999}#chart-0b723509-8831-426f-9da4-cfce6817bfe7 .axis text.major{fill:#eee}#chart-0b723509-8831-426f-9da4-cfce6817bfe7 .axis.y .guides:hover .guide.line,#chart-0b723509-8831-426f-9da4-cfce6817bfe7 .line-graph .axis.x .guides:hover .guide.line,#chart-0b723509-8831-426f-9da4-cfce6817bfe7 .stackedline-graph .axis.x .guides:hover .guide.line,#chart-0b723509-8831-426f-9da4-cfce6817bfe7 .xy-graph .axis.x .guides:hover .guide.line{stroke:#eee}#chart-0b723509-8831-426f-9da4-cfce6817bfe7 .axis .guides:hover text{fill:#eee}#chart-0b723509-8831-426f-9da4-cfce6817bfe7 .reactive{fill-opacity:.8;stroke-opacity:.8;stroke-width:1}#chart-0b723509-8831-426f-9da4-cfce6817bfe7 .ci{stroke:#999}#chart-0b723509-8831-426f-9da4-cfce6817bfe7 .reactive.active,#chart-0b723509-8831-426f-9da4-cfce6817bfe7 .active .reactive{fill-opacity:.4;stroke-opacity:.9;stroke-width:4}#chart-0b723509-8831-426f-9da4-cfce6817bfe7 .ci .reactive.active{stroke-width:1.5}#chart-0b723509-8831-426f-9da4-cfce6817bfe7 .series text{fill:#eee}#chart-0b723509-8831-426f-9da4-cfce6817bfe7 .tooltip rect{fill:#111;stroke:#eee;-webkit-transition:opacity 250ms;-moz-transition:opacity 250ms;transition:opacity 250ms}#chart-0b723509-8831-426f-9da4-cfce6817bfe7 .tooltip .label{fill:#999}#chart-0b723509-8831-426f-9da4-cfce6817bfe7 .tooltip .label{fill:#999}#chart-0b723509-8831-426f-9da4-cfce6817bfe7 .tooltip .legend{font-size:.8em;fill:#555}#chart-0b723509-8831-426f-9da4-cfce6817bfe7 .tooltip .x_label{font-size:.6em;fill:#eee}#chart-0b723509-8831-426f-9da4-cfce6817bfe7 .tooltip .xlink{font-size:.5em;text-decoration:underline}#chart-0b723509-8831-426f-9da4-cfce6817bfe7 .tooltip .value{font-size:1.5em}#chart-0b723509-8831-426f-9da4-cfce6817bfe7 .bound{font-size:.5em}#chart-0b723509-8831-426f-9da4-cfce6817bfe7 .max-value{font-size:.75em;fill:#555}#chart-0b723509-8831-426f-9da4-cfce6817bfe7 .map-element{fill:#111;stroke:#555 !important}#chart-0b723509-8831-426f-9da4-cfce6817bfe7 .map-element .reactive{fill-opacity:inherit;stroke-opacity:inherit}#chart-0b723509-8831-426f-9da4-cfce6817bfe7 .color-0,#chart-0b723509-8831-426f-9da4-cfce6817bfe7 .color-0 a:visited{stroke:#ff5995;fill:#ff5995}#chart-0b723509-8831-426f-9da4-cfce6817bfe7 .color-1,#chart-0b723509-8831-426f-9da4-cfce6817bfe7 .color-1 a:visited{stroke:#b6e354;fill:#b6e354}#chart-0b723509-8831-426f-9da4-cfce6817bfe7 .color-2,#chart-0b723509-8831-426f-9da4-cfce6817bfe7 .color-2 a:visited{stroke:#feed6c;fill:#feed6c}#chart-0b723509-8831-426f-9da4-cfce6817bfe7 .text-overlay .color-0 text{fill:black}#chart-0b723509-8831-426f-9da4-cfce6817bfe7 .text-overlay .color-1 text{fill:black}#chart-0b723509-8831-426f-9da4-cfce6817bfe7 .text-overlay .color-2 text{fill:black}\n",
       "#chart-0b723509-8831-426f-9da4-cfce6817bfe7 text.no_data{text-anchor:middle}#chart-0b723509-8831-426f-9da4-cfce6817bfe7 .guide.line{fill:none}#chart-0b723509-8831-426f-9da4-cfce6817bfe7 .centered{text-anchor:middle}#chart-0b723509-8831-426f-9da4-cfce6817bfe7 .title{text-anchor:middle}#chart-0b723509-8831-426f-9da4-cfce6817bfe7 .legends .legend text{fill-opacity:1}#chart-0b723509-8831-426f-9da4-cfce6817bfe7 .axis.x text{text-anchor:middle}#chart-0b723509-8831-426f-9da4-cfce6817bfe7 .axis.x:not(.web) text[transform]{text-anchor:start}#chart-0b723509-8831-426f-9da4-cfce6817bfe7 .axis.x:not(.web) text[transform].backwards{text-anchor:end}#chart-0b723509-8831-426f-9da4-cfce6817bfe7 .axis.y text{text-anchor:end}#chart-0b723509-8831-426f-9da4-cfce6817bfe7 .axis.y text[transform].backwards{text-anchor:start}#chart-0b723509-8831-426f-9da4-cfce6817bfe7 .axis.y2 text{text-anchor:start}#chart-0b723509-8831-426f-9da4-cfce6817bfe7 .axis.y2 text[transform].backwards{text-anchor:end}#chart-0b723509-8831-426f-9da4-cfce6817bfe7 .axis .guide.line{stroke-dasharray:4,4;stroke:black}#chart-0b723509-8831-426f-9da4-cfce6817bfe7 .axis .major.guide.line{stroke-dasharray:6,6;stroke:black}#chart-0b723509-8831-426f-9da4-cfce6817bfe7 .horizontal .axis.y .guide.line,#chart-0b723509-8831-426f-9da4-cfce6817bfe7 .horizontal .axis.y2 .guide.line,#chart-0b723509-8831-426f-9da4-cfce6817bfe7 .vertical .axis.x .guide.line{opacity:0}#chart-0b723509-8831-426f-9da4-cfce6817bfe7 .horizontal .axis.always_show .guide.line,#chart-0b723509-8831-426f-9da4-cfce6817bfe7 .vertical .axis.always_show .guide.line{opacity:1 !important}#chart-0b723509-8831-426f-9da4-cfce6817bfe7 .axis.y .guides:hover .guide.line,#chart-0b723509-8831-426f-9da4-cfce6817bfe7 .axis.y2 .guides:hover .guide.line,#chart-0b723509-8831-426f-9da4-cfce6817bfe7 .axis.x .guides:hover .guide.line{opacity:1}#chart-0b723509-8831-426f-9da4-cfce6817bfe7 .axis .guides:hover text{opacity:1}#chart-0b723509-8831-426f-9da4-cfce6817bfe7 .nofill{fill:none}#chart-0b723509-8831-426f-9da4-cfce6817bfe7 .subtle-fill{fill-opacity:.2}#chart-0b723509-8831-426f-9da4-cfce6817bfe7 .dot{stroke-width:1px;fill-opacity:1;stroke-opacity:1}#chart-0b723509-8831-426f-9da4-cfce6817bfe7 .dot.active{stroke-width:5px}#chart-0b723509-8831-426f-9da4-cfce6817bfe7 .dot.negative{fill:transparent}#chart-0b723509-8831-426f-9da4-cfce6817bfe7 text,#chart-0b723509-8831-426f-9da4-cfce6817bfe7 tspan{stroke:none !important}#chart-0b723509-8831-426f-9da4-cfce6817bfe7 .series text.active{opacity:1}#chart-0b723509-8831-426f-9da4-cfce6817bfe7 .tooltip rect{fill-opacity:.95;stroke-width:.5}#chart-0b723509-8831-426f-9da4-cfce6817bfe7 .tooltip text{fill-opacity:1}#chart-0b723509-8831-426f-9da4-cfce6817bfe7 .showable{visibility:hidden}#chart-0b723509-8831-426f-9da4-cfce6817bfe7 .showable.shown{visibility:visible}#chart-0b723509-8831-426f-9da4-cfce6817bfe7 .gauge-background{fill:rgba(229,229,229,1);stroke:none}#chart-0b723509-8831-426f-9da4-cfce6817bfe7 .bg-lines{stroke:black;stroke-width:2px}</style><script type=\"text/javascript\">window.pygal = window.pygal || {};window.pygal.config = window.pygal.config || {};window.pygal.config['0b723509-8831-426f-9da4-cfce6817bfe7'] = {\"allow_interruptions\": false, \"box_mode\": \"extremes\", \"classes\": [\"pygal-chart\"], \"css\": [\"file://style.css\", \"file://graph.css\"], \"defs\": [], \"disable_xml_declaration\": false, \"dots_size\": 2.5, \"dynamic_print_values\": false, \"explicit_size\": true, \"fill\": false, \"force_uri_protocol\": \"https\", \"formatter\": null, \"half_pie\": true, \"height\": 360, \"include_x_axis\": false, \"inner_radius\": 0.5, \"interpolate\": null, \"interpolation_parameters\": {}, \"interpolation_precision\": 250, \"inverse_y_axis\": false, \"js\": [\"//kozea.github.io/pygal.js/2.0.x/pygal-tooltips.min.js\"], \"legend_at_bottom\": false, \"legend_at_bottom_columns\": null, \"legend_box_size\": 12, \"logarithmic\": false, \"margin\": 20, \"margin_bottom\": null, \"margin_left\": null, \"margin_right\": null, \"margin_top\": null, \"max_scale\": 16, \"min_scale\": 4, \"missing_value_fill_truncation\": \"x\", \"no_data_text\": \"No data\", \"no_prefix\": false, \"order_min\": null, \"pretty_print\": false, \"print_labels\": false, \"print_values\": false, \"print_values_position\": \"center\", \"print_zeroes\": true, \"range\": null, \"rounded_bars\": null, \"secondary_range\": null, \"show_dots\": true, \"show_legend\": true, \"show_minor_x_labels\": true, \"show_minor_y_labels\": true, \"show_only_major_dots\": false, \"show_x_guides\": false, \"show_x_labels\": true, \"show_y_guides\": true, \"show_y_labels\": true, \"spacing\": 10, \"stack_from_top\": false, \"strict\": false, \"stroke\": true, \"stroke_style\": null, \"style\": {\"background\": \"black\", \"ci_colors\": [], \"colors\": [\"#ff5995\", \"#b6e354\", \"#feed6c\", \"#8cedff\", \"#9e6ffe\", \"#899ca1\", \"#f8f8f2\", \"#bf4646\", \"#516083\", \"#f92672\", \"#82b414\", \"#fd971f\", \"#56c2d6\", \"#808384\", \"#8c54fe\", \"#465457\"], \"dot_opacity\": \"1\", \"font_family\": \"Consolas, \\\"Liberation Mono\\\", Menlo, Courier, monospace\", \"foreground\": \"#999\", \"foreground_strong\": \"#eee\", \"foreground_subtle\": \"#555\", \"guide_stroke_color\": \"black\", \"guide_stroke_dasharray\": \"4,4\", \"label_font_family\": \"Consolas, \\\"Liberation Mono\\\", Menlo, Courier, monospace\", \"label_font_size\": 10, \"legend_font_family\": \"Consolas, \\\"Liberation Mono\\\", Menlo, Courier, monospace\", \"legend_font_size\": 14, \"major_guide_stroke_color\": \"black\", \"major_guide_stroke_dasharray\": \"6,6\", \"major_label_font_family\": \"Consolas, \\\"Liberation Mono\\\", Menlo, Courier, monospace\", \"major_label_font_size\": 10, \"no_data_font_family\": \"Consolas, \\\"Liberation Mono\\\", Menlo, Courier, monospace\", \"no_data_font_size\": 64, \"opacity\": \".8\", \"opacity_hover\": \".4\", \"plot_background\": \"#111\", \"stroke_opacity\": \".8\", \"stroke_opacity_hover\": \".9\", \"stroke_width\": \"1\", \"stroke_width_hover\": \"4\", \"title_font_family\": \"Consolas, \\\"Liberation Mono\\\", Menlo, Courier, monospace\", \"title_font_size\": 16, \"tooltip_font_family\": \"Consolas, \\\"Liberation Mono\\\", Menlo, Courier, monospace\", \"tooltip_font_size\": 14, \"transition\": \"250ms\", \"value_background\": \"rgba(229, 229, 229, 1)\", \"value_colors\": [], \"value_font_family\": \"Consolas, \\\"Liberation Mono\\\", Menlo, Courier, monospace\", \"value_font_size\": 16, \"value_label_font_family\": \"Consolas, \\\"Liberation Mono\\\", Menlo, Courier, monospace\", \"value_label_font_size\": 10}, \"title\": \"Wines by Quality\", \"tooltip_border_radius\": 0, \"tooltip_fancy_mode\": true, \"truncate_label\": null, \"truncate_legend\": null, \"width\": 640, \"x_label_rotation\": 0, \"x_labels\": null, \"x_labels_major\": null, \"x_labels_major_count\": null, \"x_labels_major_every\": null, \"x_title\": null, \"xrange\": null, \"y_label_rotation\": 0, \"y_labels\": null, \"y_labels_major\": null, \"y_labels_major_count\": null, \"y_labels_major_every\": null, \"y_title\": null, \"zero\": 0, \"legends\": [\"High Quality\", \"Medium Quality\", \"Low Quality\"]}</script><script type=\"text/javascript\" xlink:href=\"https://kozea.github.io/pygal.js/2.0.x/pygal-tooltips.min.js\"/></defs><title>Wines by Quality</title><g class=\"graph pie-graph vertical\"><rect x=\"0\" y=\"0\" width=\"640\" height=\"360\" class=\"background\"/><g transform=\"translate(159, 46)\" class=\"plot\"><rect x=\"0\" y=\"0\" width=\"460.4\" height=\"294\" class=\"background\"/><g class=\"series serie-0 color-0\"><g class=\"slices\"><g class=\"slice\"><path d=\"M23.020000 235.200000 A207.180000 207.180000 0 0 1 41.566059 149.521596 L125.403366 187.600887 A115.100000 115.100000 0 0 0 115.100000 235.200000 z\" class=\"slice reactive tooltip-trigger\"/><desc class=\"value\">217</desc><desc class=\"x centered\">72.70745897170923</desc><desc class=\"y centered\">201.1089583548383</desc></g></g></g><g class=\"series serie-1 color-1\"><g class=\"slices\"><g class=\"slice\"><path d=\"M41.566059 149.521596 A207.180000 207.180000 0 0 1 435.794935 209.621195 L344.419408 220.989553 A115.100000 115.100000 0 0 0 125.403366 187.600887 z\" class=\"slice reactive tooltip-trigger\"/><desc class=\"value\">1319</desc><desc class=\"x centered\">254.48497322771618</desc><desc class=\"y centered\">75.90047182954652</desc></g></g></g><g class=\"series serie-2 color-2\"><g class=\"slices\"><g class=\"slice\"><path d=\"M435.794935 209.621195 A207.180000 207.180000 0 0 1 437.380000 235.200000 L345.300000 235.200000 A115.100000 115.100000 0 0 0 344.419408 220.989553 z\" class=\"slice reactive tooltip-trigger\"/><desc class=\"value\">63</desc><desc class=\"x centered\">391.03149751663284</desc><desc class=\"y centered\">225.23360614076898</desc></g></g></g></g><g class=\"titles\"><text x=\"320.0\" y=\"26\" class=\"title plot_title\">Wines by Quality</text></g><g transform=\"translate(159, 46)\" class=\"plot overlay\"><g class=\"series serie-0 color-0\"/><g class=\"series serie-1 color-1\"/><g class=\"series serie-2 color-2\"/></g><g transform=\"translate(159, 46)\" class=\"plot text-overlay\"><g class=\"series serie-0 color-0\"/><g class=\"series serie-1 color-1\"/><g class=\"series serie-2 color-2\"/></g><g transform=\"translate(159, 46)\" class=\"plot tooltip-overlay\"><g transform=\"translate(0 0)\" style=\"opacity: 0\" class=\"tooltip\"><rect rx=\"0\" ry=\"0\" width=\"0\" height=\"0\" class=\"tooltip-box\"/><g class=\"text\"/></g></g><g transform=\"translate(10, 56)\" class=\"legends\"><g id=\"activate-serie-0\" class=\"legend reactive activate-serie\"><rect x=\"0.0\" y=\"1.0\" width=\"12\" height=\"12\" class=\"color-0 reactive\"/><text x=\"17.0\" y=\"11.2\">High Quality</text></g><g id=\"activate-serie-1\" class=\"legend reactive activate-serie\"><rect x=\"0.0\" y=\"22.0\" width=\"12\" height=\"12\" class=\"color-1 reactive\"/><text x=\"17.0\" y=\"32.2\">Medium Quality</text></g><g id=\"activate-serie-2\" class=\"legend reactive activate-serie\"><rect x=\"0.0\" y=\"43.0\" width=\"12\" height=\"12\" class=\"color-2 reactive\"/><text x=\"17.0\" y=\"53.2\">Low Quality</text></g></g><g transform=\"translate(630, 56)\" class=\"legends\"/></g></svg>\n",
       "    </figure>\n",
       "  </body>\n",
       "</html>\n"
      ],
      "text/plain": [
       "<IPython.core.display.HTML object>"
      ]
     },
     "metadata": {},
     "output_type": "display_data"
    }
   ],
   "source": [
    "pie_chart.title = 'Wines by Quality'\n",
    "\n",
    "pie_chart.add('High Quality', num_high_quality)\n",
    "pie_chart.add('Medium Quality', num_med_quality)\n",
    "pie_chart.add('Low Quality', num_low_quality)\n",
    "\n",
    "display_chart(pie_chart)"
   ]
  },
  {
   "cell_type": "code",
   "execution_count": null,
   "metadata": {
    "collapsed": true
   },
   "outputs": [],
   "source": []
  },
  {
   "cell_type": "markdown",
   "metadata": {},
   "source": [
    "## Multi Series Pie\n",
    "**Increasing the granuality**"
   ]
  },
  {
   "cell_type": "markdown",
   "metadata": {},
   "source": [
    "You can create a Pie chart by specifying the inner details of share of a Pie. For example, there are **three** shares in pie. You can specify the sub-parts in each one of them, which will tell what each part consists of. "
   ]
  },
  {
   "cell_type": "code",
   "execution_count": 53,
   "metadata": {
    "collapsed": true
   },
   "outputs": [
    {
     "data": {
      "text/plain": [
       "quality\n",
       "3     10\n",
       "4     53\n",
       "5    681\n",
       "6    638\n",
       "7    199\n",
       "8     18\n",
       "dtype: int64"
      ]
     },
     "execution_count": 53,
     "metadata": {},
     "output_type": "execute_result"
    }
   ],
   "source": [
    "counts_df"
   ]
  },
  {
   "cell_type": "code",
   "execution_count": 54,
   "metadata": {
    "collapsed": true
   },
   "outputs": [],
   "source": [
    "pie_chart = pygal.Pie(width = 640,\n",
    "                      height = 360,\n",
    "                      explicit_size = True,\n",
    "                      style = DarkStyle)\n",
    "\n",
    "pie_chart.title = 'Wines by Quality'"
   ]
  },
  {
   "cell_type": "code",
   "execution_count": 55,
   "metadata": {},
   "outputs": [
    {
     "data": {
      "text/html": [
       "\n",
       "<!DOCTYPE html>\n",
       "<html>\n",
       "  <head>\n",
       "  <script type=\"text/javascript\" \n",
       "          src=\"http://kozea.github.com/pygal.js/javascripts/svg.jquery.js\">\n",
       "  </script>\n",
       "  <script type=\"text/javascript\" \n",
       "          src=\"https://kozea.github.io/pygal.js/2.0.x/pygal-tooltips.min.js\"\">\n",
       "  </script>\n",
       "  </head>\n",
       "  <body>\n",
       "    <figure>\n",
       "      <?xml version='1.0' encoding='utf-8'?>\n",
       "<svg xmlns=\"http://www.w3.org/2000/svg\" xmlns:xlink=\"http://www.w3.org/1999/xlink\" id=\"chart-8b685662-2e95-4b9b-8fb4-b67d9cd6dce1\" class=\"pygal-chart\" viewBox=\"0 0 640 360\" width=\"640\" height=\"360\"><!--Generated with pygal 3.0.0 (lxml) ©Kozea 2012-2016 on 2023-11-27--><!--http://pygal.org--><!--http://github.com/Kozea/pygal--><defs><style type=\"text/css\">#chart-8b685662-2e95-4b9b-8fb4-b67d9cd6dce1{-webkit-user-select:none;-webkit-font-smoothing:antialiased;font-family:Consolas,\"Liberation Mono\",Menlo,Courier,monospace}#chart-8b685662-2e95-4b9b-8fb4-b67d9cd6dce1 .title{font-family:Consolas,\"Liberation Mono\",Menlo,Courier,monospace;font-size:16px}#chart-8b685662-2e95-4b9b-8fb4-b67d9cd6dce1 .legends .legend text{font-family:Consolas,\"Liberation Mono\",Menlo,Courier,monospace;font-size:14px}#chart-8b685662-2e95-4b9b-8fb4-b67d9cd6dce1 .axis text{font-family:Consolas,\"Liberation Mono\",Menlo,Courier,monospace;font-size:10px}#chart-8b685662-2e95-4b9b-8fb4-b67d9cd6dce1 .axis text.major{font-family:Consolas,\"Liberation Mono\",Menlo,Courier,monospace;font-size:10px}#chart-8b685662-2e95-4b9b-8fb4-b67d9cd6dce1 .text-overlay text.value{font-family:Consolas,\"Liberation Mono\",Menlo,Courier,monospace;font-size:16px}#chart-8b685662-2e95-4b9b-8fb4-b67d9cd6dce1 .text-overlay text.label{font-family:Consolas,\"Liberation Mono\",Menlo,Courier,monospace;font-size:10px}#chart-8b685662-2e95-4b9b-8fb4-b67d9cd6dce1 .tooltip{font-family:Consolas,\"Liberation Mono\",Menlo,Courier,monospace;font-size:14px}#chart-8b685662-2e95-4b9b-8fb4-b67d9cd6dce1 text.no_data{font-family:Consolas,\"Liberation Mono\",Menlo,Courier,monospace;font-size:64px}\n",
       "#chart-8b685662-2e95-4b9b-8fb4-b67d9cd6dce1{background-color:black}#chart-8b685662-2e95-4b9b-8fb4-b67d9cd6dce1 path,#chart-8b685662-2e95-4b9b-8fb4-b67d9cd6dce1 line,#chart-8b685662-2e95-4b9b-8fb4-b67d9cd6dce1 rect,#chart-8b685662-2e95-4b9b-8fb4-b67d9cd6dce1 circle{-webkit-transition:250ms;-moz-transition:250ms;transition:250ms}#chart-8b685662-2e95-4b9b-8fb4-b67d9cd6dce1 .graph &gt; .background{fill:black}#chart-8b685662-2e95-4b9b-8fb4-b67d9cd6dce1 .plot &gt; .background{fill:#111}#chart-8b685662-2e95-4b9b-8fb4-b67d9cd6dce1 .graph{fill:#999}#chart-8b685662-2e95-4b9b-8fb4-b67d9cd6dce1 text.no_data{fill:#eee}#chart-8b685662-2e95-4b9b-8fb4-b67d9cd6dce1 .title{fill:#eee}#chart-8b685662-2e95-4b9b-8fb4-b67d9cd6dce1 .legends .legend text{fill:#999}#chart-8b685662-2e95-4b9b-8fb4-b67d9cd6dce1 .legends .legend:hover text{fill:#eee}#chart-8b685662-2e95-4b9b-8fb4-b67d9cd6dce1 .axis .line{stroke:#eee}#chart-8b685662-2e95-4b9b-8fb4-b67d9cd6dce1 .axis .guide.line{stroke:#555}#chart-8b685662-2e95-4b9b-8fb4-b67d9cd6dce1 .axis .major.line{stroke:#999}#chart-8b685662-2e95-4b9b-8fb4-b67d9cd6dce1 .axis text.major{fill:#eee}#chart-8b685662-2e95-4b9b-8fb4-b67d9cd6dce1 .axis.y .guides:hover .guide.line,#chart-8b685662-2e95-4b9b-8fb4-b67d9cd6dce1 .line-graph .axis.x .guides:hover .guide.line,#chart-8b685662-2e95-4b9b-8fb4-b67d9cd6dce1 .stackedline-graph .axis.x .guides:hover .guide.line,#chart-8b685662-2e95-4b9b-8fb4-b67d9cd6dce1 .xy-graph .axis.x .guides:hover .guide.line{stroke:#eee}#chart-8b685662-2e95-4b9b-8fb4-b67d9cd6dce1 .axis .guides:hover text{fill:#eee}#chart-8b685662-2e95-4b9b-8fb4-b67d9cd6dce1 .reactive{fill-opacity:.8;stroke-opacity:.8;stroke-width:1}#chart-8b685662-2e95-4b9b-8fb4-b67d9cd6dce1 .ci{stroke:#999}#chart-8b685662-2e95-4b9b-8fb4-b67d9cd6dce1 .reactive.active,#chart-8b685662-2e95-4b9b-8fb4-b67d9cd6dce1 .active .reactive{fill-opacity:.4;stroke-opacity:.9;stroke-width:4}#chart-8b685662-2e95-4b9b-8fb4-b67d9cd6dce1 .ci .reactive.active{stroke-width:1.5}#chart-8b685662-2e95-4b9b-8fb4-b67d9cd6dce1 .series text{fill:#eee}#chart-8b685662-2e95-4b9b-8fb4-b67d9cd6dce1 .tooltip rect{fill:#111;stroke:#eee;-webkit-transition:opacity 250ms;-moz-transition:opacity 250ms;transition:opacity 250ms}#chart-8b685662-2e95-4b9b-8fb4-b67d9cd6dce1 .tooltip .label{fill:#999}#chart-8b685662-2e95-4b9b-8fb4-b67d9cd6dce1 .tooltip .label{fill:#999}#chart-8b685662-2e95-4b9b-8fb4-b67d9cd6dce1 .tooltip .legend{font-size:.8em;fill:#555}#chart-8b685662-2e95-4b9b-8fb4-b67d9cd6dce1 .tooltip .x_label{font-size:.6em;fill:#eee}#chart-8b685662-2e95-4b9b-8fb4-b67d9cd6dce1 .tooltip .xlink{font-size:.5em;text-decoration:underline}#chart-8b685662-2e95-4b9b-8fb4-b67d9cd6dce1 .tooltip .value{font-size:1.5em}#chart-8b685662-2e95-4b9b-8fb4-b67d9cd6dce1 .bound{font-size:.5em}#chart-8b685662-2e95-4b9b-8fb4-b67d9cd6dce1 .max-value{font-size:.75em;fill:#555}#chart-8b685662-2e95-4b9b-8fb4-b67d9cd6dce1 .map-element{fill:#111;stroke:#555 !important}#chart-8b685662-2e95-4b9b-8fb4-b67d9cd6dce1 .map-element .reactive{fill-opacity:inherit;stroke-opacity:inherit}#chart-8b685662-2e95-4b9b-8fb4-b67d9cd6dce1 .color-0,#chart-8b685662-2e95-4b9b-8fb4-b67d9cd6dce1 .color-0 a:visited{stroke:#ff5995;fill:#ff5995}#chart-8b685662-2e95-4b9b-8fb4-b67d9cd6dce1 .color-1,#chart-8b685662-2e95-4b9b-8fb4-b67d9cd6dce1 .color-1 a:visited{stroke:#b6e354;fill:#b6e354}#chart-8b685662-2e95-4b9b-8fb4-b67d9cd6dce1 .color-2,#chart-8b685662-2e95-4b9b-8fb4-b67d9cd6dce1 .color-2 a:visited{stroke:#feed6c;fill:#feed6c}#chart-8b685662-2e95-4b9b-8fb4-b67d9cd6dce1 .text-overlay .color-0 text{fill:black}#chart-8b685662-2e95-4b9b-8fb4-b67d9cd6dce1 .text-overlay .color-1 text{fill:black}#chart-8b685662-2e95-4b9b-8fb4-b67d9cd6dce1 .text-overlay .color-2 text{fill:black}\n",
       "#chart-8b685662-2e95-4b9b-8fb4-b67d9cd6dce1 text.no_data{text-anchor:middle}#chart-8b685662-2e95-4b9b-8fb4-b67d9cd6dce1 .guide.line{fill:none}#chart-8b685662-2e95-4b9b-8fb4-b67d9cd6dce1 .centered{text-anchor:middle}#chart-8b685662-2e95-4b9b-8fb4-b67d9cd6dce1 .title{text-anchor:middle}#chart-8b685662-2e95-4b9b-8fb4-b67d9cd6dce1 .legends .legend text{fill-opacity:1}#chart-8b685662-2e95-4b9b-8fb4-b67d9cd6dce1 .axis.x text{text-anchor:middle}#chart-8b685662-2e95-4b9b-8fb4-b67d9cd6dce1 .axis.x:not(.web) text[transform]{text-anchor:start}#chart-8b685662-2e95-4b9b-8fb4-b67d9cd6dce1 .axis.x:not(.web) text[transform].backwards{text-anchor:end}#chart-8b685662-2e95-4b9b-8fb4-b67d9cd6dce1 .axis.y text{text-anchor:end}#chart-8b685662-2e95-4b9b-8fb4-b67d9cd6dce1 .axis.y text[transform].backwards{text-anchor:start}#chart-8b685662-2e95-4b9b-8fb4-b67d9cd6dce1 .axis.y2 text{text-anchor:start}#chart-8b685662-2e95-4b9b-8fb4-b67d9cd6dce1 .axis.y2 text[transform].backwards{text-anchor:end}#chart-8b685662-2e95-4b9b-8fb4-b67d9cd6dce1 .axis .guide.line{stroke-dasharray:4,4;stroke:black}#chart-8b685662-2e95-4b9b-8fb4-b67d9cd6dce1 .axis .major.guide.line{stroke-dasharray:6,6;stroke:black}#chart-8b685662-2e95-4b9b-8fb4-b67d9cd6dce1 .horizontal .axis.y .guide.line,#chart-8b685662-2e95-4b9b-8fb4-b67d9cd6dce1 .horizontal .axis.y2 .guide.line,#chart-8b685662-2e95-4b9b-8fb4-b67d9cd6dce1 .vertical .axis.x .guide.line{opacity:0}#chart-8b685662-2e95-4b9b-8fb4-b67d9cd6dce1 .horizontal .axis.always_show .guide.line,#chart-8b685662-2e95-4b9b-8fb4-b67d9cd6dce1 .vertical .axis.always_show .guide.line{opacity:1 !important}#chart-8b685662-2e95-4b9b-8fb4-b67d9cd6dce1 .axis.y .guides:hover .guide.line,#chart-8b685662-2e95-4b9b-8fb4-b67d9cd6dce1 .axis.y2 .guides:hover .guide.line,#chart-8b685662-2e95-4b9b-8fb4-b67d9cd6dce1 .axis.x .guides:hover .guide.line{opacity:1}#chart-8b685662-2e95-4b9b-8fb4-b67d9cd6dce1 .axis .guides:hover text{opacity:1}#chart-8b685662-2e95-4b9b-8fb4-b67d9cd6dce1 .nofill{fill:none}#chart-8b685662-2e95-4b9b-8fb4-b67d9cd6dce1 .subtle-fill{fill-opacity:.2}#chart-8b685662-2e95-4b9b-8fb4-b67d9cd6dce1 .dot{stroke-width:1px;fill-opacity:1;stroke-opacity:1}#chart-8b685662-2e95-4b9b-8fb4-b67d9cd6dce1 .dot.active{stroke-width:5px}#chart-8b685662-2e95-4b9b-8fb4-b67d9cd6dce1 .dot.negative{fill:transparent}#chart-8b685662-2e95-4b9b-8fb4-b67d9cd6dce1 text,#chart-8b685662-2e95-4b9b-8fb4-b67d9cd6dce1 tspan{stroke:none !important}#chart-8b685662-2e95-4b9b-8fb4-b67d9cd6dce1 .series text.active{opacity:1}#chart-8b685662-2e95-4b9b-8fb4-b67d9cd6dce1 .tooltip rect{fill-opacity:.95;stroke-width:.5}#chart-8b685662-2e95-4b9b-8fb4-b67d9cd6dce1 .tooltip text{fill-opacity:1}#chart-8b685662-2e95-4b9b-8fb4-b67d9cd6dce1 .showable{visibility:hidden}#chart-8b685662-2e95-4b9b-8fb4-b67d9cd6dce1 .showable.shown{visibility:visible}#chart-8b685662-2e95-4b9b-8fb4-b67d9cd6dce1 .gauge-background{fill:rgba(229,229,229,1);stroke:none}#chart-8b685662-2e95-4b9b-8fb4-b67d9cd6dce1 .bg-lines{stroke:black;stroke-width:2px}</style><script type=\"text/javascript\">window.pygal = window.pygal || {};window.pygal.config = window.pygal.config || {};window.pygal.config['8b685662-2e95-4b9b-8fb4-b67d9cd6dce1'] = {\"allow_interruptions\": false, \"box_mode\": \"extremes\", \"classes\": [\"pygal-chart\"], \"css\": [\"file://style.css\", \"file://graph.css\"], \"defs\": [], \"disable_xml_declaration\": false, \"dots_size\": 2.5, \"dynamic_print_values\": false, \"explicit_size\": true, \"fill\": false, \"force_uri_protocol\": \"https\", \"formatter\": null, \"half_pie\": false, \"height\": 360, \"include_x_axis\": false, \"inner_radius\": 0, \"interpolate\": null, \"interpolation_parameters\": {}, \"interpolation_precision\": 250, \"inverse_y_axis\": false, \"js\": [\"//kozea.github.io/pygal.js/2.0.x/pygal-tooltips.min.js\"], \"legend_at_bottom\": false, \"legend_at_bottom_columns\": null, \"legend_box_size\": 12, \"logarithmic\": false, \"margin\": 20, \"margin_bottom\": null, \"margin_left\": null, \"margin_right\": null, \"margin_top\": null, \"max_scale\": 16, \"min_scale\": 4, \"missing_value_fill_truncation\": \"x\", \"no_data_text\": \"No data\", \"no_prefix\": false, \"order_min\": null, \"pretty_print\": false, \"print_labels\": false, \"print_values\": false, \"print_values_position\": \"center\", \"print_zeroes\": true, \"range\": null, \"rounded_bars\": null, \"secondary_range\": null, \"show_dots\": true, \"show_legend\": true, \"show_minor_x_labels\": true, \"show_minor_y_labels\": true, \"show_only_major_dots\": false, \"show_x_guides\": false, \"show_x_labels\": true, \"show_y_guides\": true, \"show_y_labels\": true, \"spacing\": 10, \"stack_from_top\": false, \"strict\": false, \"stroke\": true, \"stroke_style\": null, \"style\": {\"background\": \"black\", \"ci_colors\": [], \"colors\": [\"#ff5995\", \"#b6e354\", \"#feed6c\", \"#8cedff\", \"#9e6ffe\", \"#899ca1\", \"#f8f8f2\", \"#bf4646\", \"#516083\", \"#f92672\", \"#82b414\", \"#fd971f\", \"#56c2d6\", \"#808384\", \"#8c54fe\", \"#465457\"], \"dot_opacity\": \"1\", \"font_family\": \"Consolas, \\\"Liberation Mono\\\", Menlo, Courier, monospace\", \"foreground\": \"#999\", \"foreground_strong\": \"#eee\", \"foreground_subtle\": \"#555\", \"guide_stroke_color\": \"black\", \"guide_stroke_dasharray\": \"4,4\", \"label_font_family\": \"Consolas, \\\"Liberation Mono\\\", Menlo, Courier, monospace\", \"label_font_size\": 10, \"legend_font_family\": \"Consolas, \\\"Liberation Mono\\\", Menlo, Courier, monospace\", \"legend_font_size\": 14, \"major_guide_stroke_color\": \"black\", \"major_guide_stroke_dasharray\": \"6,6\", \"major_label_font_family\": \"Consolas, \\\"Liberation Mono\\\", Menlo, Courier, monospace\", \"major_label_font_size\": 10, \"no_data_font_family\": \"Consolas, \\\"Liberation Mono\\\", Menlo, Courier, monospace\", \"no_data_font_size\": 64, \"opacity\": \".8\", \"opacity_hover\": \".4\", \"plot_background\": \"#111\", \"stroke_opacity\": \".8\", \"stroke_opacity_hover\": \".9\", \"stroke_width\": \"1\", \"stroke_width_hover\": \"4\", \"title_font_family\": \"Consolas, \\\"Liberation Mono\\\", Menlo, Courier, monospace\", \"title_font_size\": 16, \"tooltip_font_family\": \"Consolas, \\\"Liberation Mono\\\", Menlo, Courier, monospace\", \"tooltip_font_size\": 14, \"transition\": \"250ms\", \"value_background\": \"rgba(229, 229, 229, 1)\", \"value_colors\": [], \"value_font_family\": \"Consolas, \\\"Liberation Mono\\\", Menlo, Courier, monospace\", \"value_font_size\": 16, \"value_label_font_family\": \"Consolas, \\\"Liberation Mono\\\", Menlo, Courier, monospace\", \"value_label_font_size\": 10}, \"title\": \"Wines by Quality\", \"tooltip_border_radius\": 0, \"tooltip_fancy_mode\": true, \"truncate_label\": null, \"truncate_legend\": null, \"width\": 640, \"x_label_rotation\": 0, \"x_labels\": null, \"x_labels_major\": null, \"x_labels_major_count\": null, \"x_labels_major_every\": null, \"x_title\": null, \"xrange\": null, \"y_label_rotation\": 0, \"y_labels\": null, \"y_labels_major\": null, \"y_labels_major_count\": null, \"y_labels_major_every\": null, \"y_title\": null, \"zero\": 0, \"legends\": [\"Low Quality\", \"Medium Quality\", \"High Quality\"]}</script><script type=\"text/javascript\" xlink:href=\"https://kozea.github.io/pygal.js/2.0.x/pygal-tooltips.min.js\"/></defs><title>Wines by Quality</title><g class=\"graph pie-graph vertical\"><rect x=\"0\" y=\"0\" width=\"640\" height=\"360\" class=\"background\"/><g transform=\"translate(159, 46)\" class=\"plot\"><rect x=\"0\" y=\"0\" width=\"460.4\" height=\"294\" class=\"background\"/><g class=\"series serie-0 color-0\"><g class=\"slices\"><g class=\"slice\"><path d=\"M230.200000 0.000000 A147.000000 147.000000 0 0 1 235.974800 0.113473 L235.397320 14.802126 A132.300000 132.300000 0 0 0 230.200000 14.700000 z\" class=\"slice reactive tooltip-trigger\"/><desc class=\"value\">10</desc><desc class=\"x centered\">232.94355965647736</desc><desc class=\"y centered\">7.376952545751408</desc></g><g class=\"slice\"><path d=\"M235.974800 0.113473 A147.000000 147.000000 0 0 1 266.220052 4.481384 L262.618047 18.733246 A132.300000 132.300000 0 0 0 235.397320 14.802126 z\" class=\"slice reactive tooltip-trigger\"/><desc class=\"value\">53</desc><desc class=\"x centered\">250.16067537701696</desc><desc class=\"y centered\">8.783886834807305</desc></g><g class=\"big_slice\"><path d=\"M230.200000 14.700000 A132.300000 132.300000 0 0 1 262.618047 18.733246 L230.200000 147.000000 A0.000000 0.000000 0 0 0 230.200000 147.000000 z\" class=\"slice reactive tooltip-trigger\"/><desc class=\"value\">63</desc><desc class=\"x centered\">238.3669947654326</desc><desc class=\"y centered\">81.35609170302703</desc></g></g></g><g class=\"series serie-1 color-1\"><g class=\"slices\"><g class=\"slice\"><path d=\"M266.220052 4.481384 A147.000000 147.000000 0 0 1 262.004874 290.518117 L258.824387 276.166305 A132.300000 132.300000 0 0 0 262.618047 18.733246 z\" class=\"slice reactive tooltip-trigger\"/><desc class=\"value\">681</desc><desc class=\"x centered\">369.8348389796479</desc><desc class=\"y centered\">149.05772766123602</desc></g><g class=\"slice\"><path d=\"M262.004874 290.518117 A147.000000 147.000000 0 0 1 119.501209 50.279900 L130.571088 59.951910 A132.300000 132.300000 0 0 0 258.824387 276.166305 z\" class=\"slice reactive tooltip-trigger\"/><desc class=\"value\">638</desc><desc class=\"x centered\">110.09105729454869</desc><desc class=\"y centered\">218.2458025583165</desc></g><g class=\"big_slice\"><path d=\"M262.618047 18.733246 A132.300000 132.300000 0 1 1 130.571088 59.951910 L230.200000 147.000000 A0.000000 0.000000 0 1 0 230.200000 147.000000 z\" class=\"slice reactive tooltip-trigger\"/><desc class=\"value\">1319</desc><desc class=\"x centered\">249.91084505782314</desc><desc class=\"y centered\">210.14511134764504</desc></g></g></g><g class=\"series serie-2 color-2\"><g class=\"slices\"><g class=\"slice\"><path d=\"M119.501209 50.279900 A147.000000 147.000000 0 0 1 219.811351 0.367548 L220.850216 15.030793 A132.300000 132.300000 0 0 0 130.571088 59.951910 z\" class=\"slice reactive tooltip-trigger\"/><desc class=\"value\">199</desc><desc class=\"x centered\">167.98876021210174</desc><desc class=\"y centered\">21.97246645617365</desc></g><g class=\"slice\"><path d=\"M219.811351 0.367548 A147.000000 147.000000 0 0 1 230.200000 0.000000 L230.200000 14.700000 A132.300000 132.300000 0 0 0 220.850216 15.030793 z\" class=\"slice reactive tooltip-trigger\"/><desc class=\"value\">18</desc><desc class=\"x centered\">225.26230428873438</desc><desc class=\"y centered\">7.437319956003449</desc></g><g class=\"big_slice\"><path d=\"M130.571088 59.951910 A132.300000 132.300000 0 0 1 230.200000 14.700000 L230.200000 147.000000 A0.000000 0.000000 0 0 0 230.200000 147.000000 z\" class=\"slice reactive tooltip-trigger\"/><desc class=\"value\">217</desc><desc class=\"x centered\">202.84395012440723</desc><desc class=\"y centered\">86.77152637494387</desc></g></g></g></g><g class=\"titles\"><text x=\"320.0\" y=\"26\" class=\"title plot_title\">Wines by Quality</text></g><g transform=\"translate(159, 46)\" class=\"plot overlay\"><g class=\"series serie-0 color-0\"/><g class=\"series serie-1 color-1\"/><g class=\"series serie-2 color-2\"/></g><g transform=\"translate(159, 46)\" class=\"plot text-overlay\"><g class=\"series serie-0 color-0\"/><g class=\"series serie-1 color-1\"/><g class=\"series serie-2 color-2\"/></g><g transform=\"translate(159, 46)\" class=\"plot tooltip-overlay\"><g transform=\"translate(0 0)\" style=\"opacity: 0\" class=\"tooltip\"><rect rx=\"0\" ry=\"0\" width=\"0\" height=\"0\" class=\"tooltip-box\"/><g class=\"text\"/></g></g><g transform=\"translate(10, 56)\" class=\"legends\"><g id=\"activate-serie-0\" class=\"legend reactive activate-serie\"><rect x=\"0.0\" y=\"1.0\" width=\"12\" height=\"12\" class=\"color-0 reactive\"/><text x=\"17.0\" y=\"11.2\">Low Quality</text></g><g id=\"activate-serie-1\" class=\"legend reactive activate-serie\"><rect x=\"0.0\" y=\"22.0\" width=\"12\" height=\"12\" class=\"color-1 reactive\"/><text x=\"17.0\" y=\"32.2\">Medium Quality</text></g><g id=\"activate-serie-2\" class=\"legend reactive activate-serie\"><rect x=\"0.0\" y=\"43.0\" width=\"12\" height=\"12\" class=\"color-2 reactive\"/><text x=\"17.0\" y=\"53.2\">High Quality</text></g></g><g transform=\"translate(630, 56)\" class=\"legends\"/></g></svg>\n",
       "    </figure>\n",
       "  </body>\n",
       "</html>\n"
      ],
      "text/plain": [
       "<IPython.core.display.HTML object>"
      ]
     },
     "metadata": {},
     "output_type": "display_data"
    }
   ],
   "source": [
    "pie_chart.add('Low Quality', \n",
    "              [counts_df[3], counts_df[4]])\n",
    "\n",
    "pie_chart.add('Medium Quality', \n",
    "              [counts_df[5], counts_df[6]])\n",
    "\n",
    "pie_chart.add('High Quality', \n",
    "              [counts_df[7], counts_df[8]])\n",
    "\n",
    "display_chart(pie_chart)"
   ]
  },
  {
   "cell_type": "code",
   "execution_count": 56,
   "metadata": {
    "collapsed": true
   },
   "outputs": [],
   "source": [
    "pie_chart = pygal.Pie(width = 640,\n",
    "                      height = 360,\n",
    "                      explicit_size = True,\n",
    "                      style = DarkStyle)\n",
    "\n",
    "pie_chart.title = 'Wines by Quality'"
   ]
  },
  {
   "cell_type": "code",
   "execution_count": 57,
   "metadata": {},
   "outputs": [
    {
     "data": {
      "text/html": [
       "\n",
       "<!DOCTYPE html>\n",
       "<html>\n",
       "  <head>\n",
       "  <script type=\"text/javascript\" \n",
       "          src=\"http://kozea.github.com/pygal.js/javascripts/svg.jquery.js\">\n",
       "  </script>\n",
       "  <script type=\"text/javascript\" \n",
       "          src=\"https://kozea.github.io/pygal.js/2.0.x/pygal-tooltips.min.js\"\">\n",
       "  </script>\n",
       "  </head>\n",
       "  <body>\n",
       "    <figure>\n",
       "      <?xml version='1.0' encoding='utf-8'?>\n",
       "<svg xmlns=\"http://www.w3.org/2000/svg\" xmlns:xlink=\"http://www.w3.org/1999/xlink\" id=\"chart-a31ff359-e010-4b70-875c-5cf76d6656d1\" class=\"pygal-chart\" viewBox=\"0 0 640 360\" width=\"640\" height=\"360\"><!--Generated with pygal 3.0.0 (lxml) ©Kozea 2012-2016 on 2023-11-27--><!--http://pygal.org--><!--http://github.com/Kozea/pygal--><defs><style type=\"text/css\">#chart-a31ff359-e010-4b70-875c-5cf76d6656d1{-webkit-user-select:none;-webkit-font-smoothing:antialiased;font-family:Consolas,\"Liberation Mono\",Menlo,Courier,monospace}#chart-a31ff359-e010-4b70-875c-5cf76d6656d1 .title{font-family:Consolas,\"Liberation Mono\",Menlo,Courier,monospace;font-size:16px}#chart-a31ff359-e010-4b70-875c-5cf76d6656d1 .legends .legend text{font-family:Consolas,\"Liberation Mono\",Menlo,Courier,monospace;font-size:14px}#chart-a31ff359-e010-4b70-875c-5cf76d6656d1 .axis text{font-family:Consolas,\"Liberation Mono\",Menlo,Courier,monospace;font-size:10px}#chart-a31ff359-e010-4b70-875c-5cf76d6656d1 .axis text.major{font-family:Consolas,\"Liberation Mono\",Menlo,Courier,monospace;font-size:10px}#chart-a31ff359-e010-4b70-875c-5cf76d6656d1 .text-overlay text.value{font-family:Consolas,\"Liberation Mono\",Menlo,Courier,monospace;font-size:16px}#chart-a31ff359-e010-4b70-875c-5cf76d6656d1 .text-overlay text.label{font-family:Consolas,\"Liberation Mono\",Menlo,Courier,monospace;font-size:10px}#chart-a31ff359-e010-4b70-875c-5cf76d6656d1 .tooltip{font-family:Consolas,\"Liberation Mono\",Menlo,Courier,monospace;font-size:14px}#chart-a31ff359-e010-4b70-875c-5cf76d6656d1 text.no_data{font-family:Consolas,\"Liberation Mono\",Menlo,Courier,monospace;font-size:64px}\n",
       "#chart-a31ff359-e010-4b70-875c-5cf76d6656d1{background-color:black}#chart-a31ff359-e010-4b70-875c-5cf76d6656d1 path,#chart-a31ff359-e010-4b70-875c-5cf76d6656d1 line,#chart-a31ff359-e010-4b70-875c-5cf76d6656d1 rect,#chart-a31ff359-e010-4b70-875c-5cf76d6656d1 circle{-webkit-transition:250ms;-moz-transition:250ms;transition:250ms}#chart-a31ff359-e010-4b70-875c-5cf76d6656d1 .graph &gt; .background{fill:black}#chart-a31ff359-e010-4b70-875c-5cf76d6656d1 .plot &gt; .background{fill:#111}#chart-a31ff359-e010-4b70-875c-5cf76d6656d1 .graph{fill:#999}#chart-a31ff359-e010-4b70-875c-5cf76d6656d1 text.no_data{fill:#eee}#chart-a31ff359-e010-4b70-875c-5cf76d6656d1 .title{fill:#eee}#chart-a31ff359-e010-4b70-875c-5cf76d6656d1 .legends .legend text{fill:#999}#chart-a31ff359-e010-4b70-875c-5cf76d6656d1 .legends .legend:hover text{fill:#eee}#chart-a31ff359-e010-4b70-875c-5cf76d6656d1 .axis .line{stroke:#eee}#chart-a31ff359-e010-4b70-875c-5cf76d6656d1 .axis .guide.line{stroke:#555}#chart-a31ff359-e010-4b70-875c-5cf76d6656d1 .axis .major.line{stroke:#999}#chart-a31ff359-e010-4b70-875c-5cf76d6656d1 .axis text.major{fill:#eee}#chart-a31ff359-e010-4b70-875c-5cf76d6656d1 .axis.y .guides:hover .guide.line,#chart-a31ff359-e010-4b70-875c-5cf76d6656d1 .line-graph .axis.x .guides:hover .guide.line,#chart-a31ff359-e010-4b70-875c-5cf76d6656d1 .stackedline-graph .axis.x .guides:hover .guide.line,#chart-a31ff359-e010-4b70-875c-5cf76d6656d1 .xy-graph .axis.x .guides:hover .guide.line{stroke:#eee}#chart-a31ff359-e010-4b70-875c-5cf76d6656d1 .axis .guides:hover text{fill:#eee}#chart-a31ff359-e010-4b70-875c-5cf76d6656d1 .reactive{fill-opacity:.8;stroke-opacity:.8;stroke-width:1}#chart-a31ff359-e010-4b70-875c-5cf76d6656d1 .ci{stroke:#999}#chart-a31ff359-e010-4b70-875c-5cf76d6656d1 .reactive.active,#chart-a31ff359-e010-4b70-875c-5cf76d6656d1 .active .reactive{fill-opacity:.4;stroke-opacity:.9;stroke-width:4}#chart-a31ff359-e010-4b70-875c-5cf76d6656d1 .ci .reactive.active{stroke-width:1.5}#chart-a31ff359-e010-4b70-875c-5cf76d6656d1 .series text{fill:#eee}#chart-a31ff359-e010-4b70-875c-5cf76d6656d1 .tooltip rect{fill:#111;stroke:#eee;-webkit-transition:opacity 250ms;-moz-transition:opacity 250ms;transition:opacity 250ms}#chart-a31ff359-e010-4b70-875c-5cf76d6656d1 .tooltip .label{fill:#999}#chart-a31ff359-e010-4b70-875c-5cf76d6656d1 .tooltip .label{fill:#999}#chart-a31ff359-e010-4b70-875c-5cf76d6656d1 .tooltip .legend{font-size:.8em;fill:#555}#chart-a31ff359-e010-4b70-875c-5cf76d6656d1 .tooltip .x_label{font-size:.6em;fill:#eee}#chart-a31ff359-e010-4b70-875c-5cf76d6656d1 .tooltip .xlink{font-size:.5em;text-decoration:underline}#chart-a31ff359-e010-4b70-875c-5cf76d6656d1 .tooltip .value{font-size:1.5em}#chart-a31ff359-e010-4b70-875c-5cf76d6656d1 .bound{font-size:.5em}#chart-a31ff359-e010-4b70-875c-5cf76d6656d1 .max-value{font-size:.75em;fill:#555}#chart-a31ff359-e010-4b70-875c-5cf76d6656d1 .map-element{fill:#111;stroke:#555 !important}#chart-a31ff359-e010-4b70-875c-5cf76d6656d1 .map-element .reactive{fill-opacity:inherit;stroke-opacity:inherit}#chart-a31ff359-e010-4b70-875c-5cf76d6656d1 .color-0,#chart-a31ff359-e010-4b70-875c-5cf76d6656d1 .color-0 a:visited{stroke:#ff5995;fill:#ff5995}#chart-a31ff359-e010-4b70-875c-5cf76d6656d1 .color-1,#chart-a31ff359-e010-4b70-875c-5cf76d6656d1 .color-1 a:visited{stroke:#b6e354;fill:#b6e354}#chart-a31ff359-e010-4b70-875c-5cf76d6656d1 .color-2,#chart-a31ff359-e010-4b70-875c-5cf76d6656d1 .color-2 a:visited{stroke:#feed6c;fill:#feed6c}#chart-a31ff359-e010-4b70-875c-5cf76d6656d1 .text-overlay .color-0 text{fill:black}#chart-a31ff359-e010-4b70-875c-5cf76d6656d1 .text-overlay .color-1 text{fill:black}#chart-a31ff359-e010-4b70-875c-5cf76d6656d1 .text-overlay .color-2 text{fill:black}\n",
       "#chart-a31ff359-e010-4b70-875c-5cf76d6656d1 text.no_data{text-anchor:middle}#chart-a31ff359-e010-4b70-875c-5cf76d6656d1 .guide.line{fill:none}#chart-a31ff359-e010-4b70-875c-5cf76d6656d1 .centered{text-anchor:middle}#chart-a31ff359-e010-4b70-875c-5cf76d6656d1 .title{text-anchor:middle}#chart-a31ff359-e010-4b70-875c-5cf76d6656d1 .legends .legend text{fill-opacity:1}#chart-a31ff359-e010-4b70-875c-5cf76d6656d1 .axis.x text{text-anchor:middle}#chart-a31ff359-e010-4b70-875c-5cf76d6656d1 .axis.x:not(.web) text[transform]{text-anchor:start}#chart-a31ff359-e010-4b70-875c-5cf76d6656d1 .axis.x:not(.web) text[transform].backwards{text-anchor:end}#chart-a31ff359-e010-4b70-875c-5cf76d6656d1 .axis.y text{text-anchor:end}#chart-a31ff359-e010-4b70-875c-5cf76d6656d1 .axis.y text[transform].backwards{text-anchor:start}#chart-a31ff359-e010-4b70-875c-5cf76d6656d1 .axis.y2 text{text-anchor:start}#chart-a31ff359-e010-4b70-875c-5cf76d6656d1 .axis.y2 text[transform].backwards{text-anchor:end}#chart-a31ff359-e010-4b70-875c-5cf76d6656d1 .axis .guide.line{stroke-dasharray:4,4;stroke:black}#chart-a31ff359-e010-4b70-875c-5cf76d6656d1 .axis .major.guide.line{stroke-dasharray:6,6;stroke:black}#chart-a31ff359-e010-4b70-875c-5cf76d6656d1 .horizontal .axis.y .guide.line,#chart-a31ff359-e010-4b70-875c-5cf76d6656d1 .horizontal .axis.y2 .guide.line,#chart-a31ff359-e010-4b70-875c-5cf76d6656d1 .vertical .axis.x .guide.line{opacity:0}#chart-a31ff359-e010-4b70-875c-5cf76d6656d1 .horizontal .axis.always_show .guide.line,#chart-a31ff359-e010-4b70-875c-5cf76d6656d1 .vertical .axis.always_show .guide.line{opacity:1 !important}#chart-a31ff359-e010-4b70-875c-5cf76d6656d1 .axis.y .guides:hover .guide.line,#chart-a31ff359-e010-4b70-875c-5cf76d6656d1 .axis.y2 .guides:hover .guide.line,#chart-a31ff359-e010-4b70-875c-5cf76d6656d1 .axis.x .guides:hover .guide.line{opacity:1}#chart-a31ff359-e010-4b70-875c-5cf76d6656d1 .axis .guides:hover text{opacity:1}#chart-a31ff359-e010-4b70-875c-5cf76d6656d1 .nofill{fill:none}#chart-a31ff359-e010-4b70-875c-5cf76d6656d1 .subtle-fill{fill-opacity:.2}#chart-a31ff359-e010-4b70-875c-5cf76d6656d1 .dot{stroke-width:1px;fill-opacity:1;stroke-opacity:1}#chart-a31ff359-e010-4b70-875c-5cf76d6656d1 .dot.active{stroke-width:5px}#chart-a31ff359-e010-4b70-875c-5cf76d6656d1 .dot.negative{fill:transparent}#chart-a31ff359-e010-4b70-875c-5cf76d6656d1 text,#chart-a31ff359-e010-4b70-875c-5cf76d6656d1 tspan{stroke:none !important}#chart-a31ff359-e010-4b70-875c-5cf76d6656d1 .series text.active{opacity:1}#chart-a31ff359-e010-4b70-875c-5cf76d6656d1 .tooltip rect{fill-opacity:.95;stroke-width:.5}#chart-a31ff359-e010-4b70-875c-5cf76d6656d1 .tooltip text{fill-opacity:1}#chart-a31ff359-e010-4b70-875c-5cf76d6656d1 .showable{visibility:hidden}#chart-a31ff359-e010-4b70-875c-5cf76d6656d1 .showable.shown{visibility:visible}#chart-a31ff359-e010-4b70-875c-5cf76d6656d1 .gauge-background{fill:rgba(229,229,229,1);stroke:none}#chart-a31ff359-e010-4b70-875c-5cf76d6656d1 .bg-lines{stroke:black;stroke-width:2px}</style><script type=\"text/javascript\">window.pygal = window.pygal || {};window.pygal.config = window.pygal.config || {};window.pygal.config['a31ff359-e010-4b70-875c-5cf76d6656d1'] = {\"allow_interruptions\": false, \"box_mode\": \"extremes\", \"classes\": [\"pygal-chart\"], \"css\": [\"file://style.css\", \"file://graph.css\"], \"defs\": [], \"disable_xml_declaration\": false, \"dots_size\": 2.5, \"dynamic_print_values\": false, \"explicit_size\": true, \"fill\": false, \"force_uri_protocol\": \"https\", \"formatter\": null, \"half_pie\": false, \"height\": 360, \"include_x_axis\": false, \"inner_radius\": 0, \"interpolate\": null, \"interpolation_parameters\": {}, \"interpolation_precision\": 250, \"inverse_y_axis\": false, \"js\": [\"//kozea.github.io/pygal.js/2.0.x/pygal-tooltips.min.js\"], \"legend_at_bottom\": false, \"legend_at_bottom_columns\": null, \"legend_box_size\": 12, \"logarithmic\": false, \"margin\": 20, \"margin_bottom\": null, \"margin_left\": null, \"margin_right\": null, \"margin_top\": null, \"max_scale\": 16, \"min_scale\": 4, \"missing_value_fill_truncation\": \"x\", \"no_data_text\": \"No data\", \"no_prefix\": false, \"order_min\": null, \"pretty_print\": false, \"print_labels\": false, \"print_values\": false, \"print_values_position\": \"center\", \"print_zeroes\": true, \"range\": null, \"rounded_bars\": null, \"secondary_range\": null, \"show_dots\": true, \"show_legend\": true, \"show_minor_x_labels\": true, \"show_minor_y_labels\": true, \"show_only_major_dots\": false, \"show_x_guides\": false, \"show_x_labels\": true, \"show_y_guides\": true, \"show_y_labels\": true, \"spacing\": 10, \"stack_from_top\": false, \"strict\": false, \"stroke\": true, \"stroke_style\": null, \"style\": {\"background\": \"black\", \"ci_colors\": [], \"colors\": [\"#ff5995\", \"#b6e354\", \"#feed6c\", \"#8cedff\", \"#9e6ffe\", \"#899ca1\", \"#f8f8f2\", \"#bf4646\", \"#516083\", \"#f92672\", \"#82b414\", \"#fd971f\", \"#56c2d6\", \"#808384\", \"#8c54fe\", \"#465457\"], \"dot_opacity\": \"1\", \"font_family\": \"Consolas, \\\"Liberation Mono\\\", Menlo, Courier, monospace\", \"foreground\": \"#999\", \"foreground_strong\": \"#eee\", \"foreground_subtle\": \"#555\", \"guide_stroke_color\": \"black\", \"guide_stroke_dasharray\": \"4,4\", \"label_font_family\": \"Consolas, \\\"Liberation Mono\\\", Menlo, Courier, monospace\", \"label_font_size\": 10, \"legend_font_family\": \"Consolas, \\\"Liberation Mono\\\", Menlo, Courier, monospace\", \"legend_font_size\": 14, \"major_guide_stroke_color\": \"black\", \"major_guide_stroke_dasharray\": \"6,6\", \"major_label_font_family\": \"Consolas, \\\"Liberation Mono\\\", Menlo, Courier, monospace\", \"major_label_font_size\": 10, \"no_data_font_family\": \"Consolas, \\\"Liberation Mono\\\", Menlo, Courier, monospace\", \"no_data_font_size\": 64, \"opacity\": \".8\", \"opacity_hover\": \".4\", \"plot_background\": \"#111\", \"stroke_opacity\": \".8\", \"stroke_opacity_hover\": \".9\", \"stroke_width\": \"1\", \"stroke_width_hover\": \"4\", \"title_font_family\": \"Consolas, \\\"Liberation Mono\\\", Menlo, Courier, monospace\", \"title_font_size\": 16, \"tooltip_font_family\": \"Consolas, \\\"Liberation Mono\\\", Menlo, Courier, monospace\", \"tooltip_font_size\": 14, \"transition\": \"250ms\", \"value_background\": \"rgba(229, 229, 229, 1)\", \"value_colors\": [], \"value_font_family\": \"Consolas, \\\"Liberation Mono\\\", Menlo, Courier, monospace\", \"value_font_size\": 16, \"value_label_font_family\": \"Consolas, \\\"Liberation Mono\\\", Menlo, Courier, monospace\", \"value_label_font_size\": 10}, \"title\": \"Wines by Quality\", \"tooltip_border_radius\": 0, \"tooltip_fancy_mode\": true, \"truncate_label\": null, \"truncate_legend\": null, \"width\": 640, \"x_label_rotation\": 0, \"x_labels\": null, \"x_labels_major\": null, \"x_labels_major_count\": null, \"x_labels_major_every\": null, \"x_title\": null, \"xrange\": null, \"y_label_rotation\": 0, \"y_labels\": null, \"y_labels_major\": null, \"y_labels_major_count\": null, \"y_labels_major_every\": null, \"y_title\": null, \"zero\": 0, \"legends\": [\"Low Quality\", \"Medium Quality\", \"High Quality\"]}</script><script type=\"text/javascript\" xlink:href=\"https://kozea.github.io/pygal.js/2.0.x/pygal-tooltips.min.js\"/></defs><title>Wines by Quality</title><g class=\"graph pie-graph vertical\"><rect x=\"0\" y=\"0\" width=\"640\" height=\"360\" class=\"background\"/><g transform=\"translate(159, 46)\" class=\"plot\"><rect x=\"0\" y=\"0\" width=\"460.4\" height=\"294\" class=\"background\"/><g class=\"series serie-0 color-0\"><g class=\"slices\"><g class=\"slice\"><desc class=\"label\">3</desc><path d=\"M230.200000 0.000000 A147.000000 147.000000 0 0 1 235.974800 0.113473 L235.397320 14.802126 A132.300000 132.300000 0 0 0 230.200000 14.700000 z\" class=\"slice reactive tooltip-trigger\"/><desc class=\"value\">10</desc><desc class=\"x centered\">232.94355965647736</desc><desc class=\"y centered\">7.376952545751408</desc></g><g class=\"slice\"><desc class=\"label\">4</desc><path d=\"M235.974800 0.113473 A147.000000 147.000000 0 0 1 266.220052 4.481384 L262.618047 18.733246 A132.300000 132.300000 0 0 0 235.397320 14.802126 z\" class=\"slice reactive tooltip-trigger\"/><desc class=\"value\">53</desc><desc class=\"x centered\">250.16067537701696</desc><desc class=\"y centered\">8.783886834807305</desc></g><g class=\"big_slice\"><path d=\"M230.200000 14.700000 A132.300000 132.300000 0 0 1 262.618047 18.733246 L230.200000 147.000000 A0.000000 0.000000 0 0 0 230.200000 147.000000 z\" class=\"slice reactive tooltip-trigger\"/><desc class=\"value\">63</desc><desc class=\"x centered\">238.3669947654326</desc><desc class=\"y centered\">81.35609170302703</desc></g></g></g><g class=\"series serie-1 color-1\"><g class=\"slices\"><g class=\"slice\"><desc class=\"label\">5</desc><path d=\"M266.220052 4.481384 A147.000000 147.000000 0 0 1 262.004874 290.518117 L258.824387 276.166305 A132.300000 132.300000 0 0 0 262.618047 18.733246 z\" class=\"slice reactive tooltip-trigger\"/><desc class=\"value\">681</desc><desc class=\"x centered\">369.8348389796479</desc><desc class=\"y centered\">149.05772766123602</desc></g><g class=\"slice\"><desc class=\"label\">6</desc><path d=\"M262.004874 290.518117 A147.000000 147.000000 0 0 1 119.501209 50.279900 L130.571088 59.951910 A132.300000 132.300000 0 0 0 258.824387 276.166305 z\" class=\"slice reactive tooltip-trigger\"/><desc class=\"value\">638</desc><desc class=\"x centered\">110.09105729454869</desc><desc class=\"y centered\">218.2458025583165</desc></g><g class=\"big_slice\"><path d=\"M262.618047 18.733246 A132.300000 132.300000 0 1 1 130.571088 59.951910 L230.200000 147.000000 A0.000000 0.000000 0 1 0 230.200000 147.000000 z\" class=\"slice reactive tooltip-trigger\"/><desc class=\"value\">1319</desc><desc class=\"x centered\">249.91084505782314</desc><desc class=\"y centered\">210.14511134764504</desc></g></g></g><g class=\"series serie-2 color-2\"><g class=\"slices\"><g class=\"slice\"><desc class=\"label\">7</desc><path d=\"M119.501209 50.279900 A147.000000 147.000000 0 0 1 219.811351 0.367548 L220.850216 15.030793 A132.300000 132.300000 0 0 0 130.571088 59.951910 z\" class=\"slice reactive tooltip-trigger\"/><desc class=\"value\">199</desc><desc class=\"x centered\">167.98876021210174</desc><desc class=\"y centered\">21.97246645617365</desc></g><g class=\"slice\"><desc class=\"label\">8</desc><path d=\"M219.811351 0.367548 A147.000000 147.000000 0 0 1 230.200000 0.000000 L230.200000 14.700000 A132.300000 132.300000 0 0 0 220.850216 15.030793 z\" class=\"slice reactive tooltip-trigger\"/><desc class=\"value\">18</desc><desc class=\"x centered\">225.26230428873438</desc><desc class=\"y centered\">7.437319956003449</desc></g><g class=\"big_slice\"><path d=\"M130.571088 59.951910 A132.300000 132.300000 0 0 1 230.200000 14.700000 L230.200000 147.000000 A0.000000 0.000000 0 0 0 230.200000 147.000000 z\" class=\"slice reactive tooltip-trigger\"/><desc class=\"value\">217</desc><desc class=\"x centered\">202.84395012440723</desc><desc class=\"y centered\">86.77152637494387</desc></g></g></g></g><g class=\"titles\"><text x=\"320.0\" y=\"26\" class=\"title plot_title\">Wines by Quality</text></g><g transform=\"translate(159, 46)\" class=\"plot overlay\"><g class=\"series serie-0 color-0\"/><g class=\"series serie-1 color-1\"/><g class=\"series serie-2 color-2\"/></g><g transform=\"translate(159, 46)\" class=\"plot text-overlay\"><g class=\"series serie-0 color-0\"/><g class=\"series serie-1 color-1\"/><g class=\"series serie-2 color-2\"/></g><g transform=\"translate(159, 46)\" class=\"plot tooltip-overlay\"><g transform=\"translate(0 0)\" style=\"opacity: 0\" class=\"tooltip\"><rect rx=\"0\" ry=\"0\" width=\"0\" height=\"0\" class=\"tooltip-box\"/><g class=\"text\"/></g></g><g transform=\"translate(10, 56)\" class=\"legends\"><g id=\"activate-serie-0\" class=\"legend reactive activate-serie\"><rect x=\"0.0\" y=\"1.0\" width=\"12\" height=\"12\" class=\"color-0 reactive\"/><text x=\"17.0\" y=\"11.2\">Low Quality</text></g><g id=\"activate-serie-1\" class=\"legend reactive activate-serie\"><rect x=\"0.0\" y=\"22.0\" width=\"12\" height=\"12\" class=\"color-1 reactive\"/><text x=\"17.0\" y=\"32.2\">Medium Quality</text></g><g id=\"activate-serie-2\" class=\"legend reactive activate-serie\"><rect x=\"0.0\" y=\"43.0\" width=\"12\" height=\"12\" class=\"color-2 reactive\"/><text x=\"17.0\" y=\"53.2\">High Quality</text></g></g><g transform=\"translate(630, 56)\" class=\"legends\"/></g></svg>\n",
       "    </figure>\n",
       "  </body>\n",
       "</html>\n"
      ],
      "text/plain": [
       "<IPython.core.display.HTML object>"
      ]
     },
     "metadata": {},
     "output_type": "display_data"
    }
   ],
   "source": [
    "pie_chart.add('Low Quality', \n",
    "              [{'value': counts_df[3], 'label': '3'}, \n",
    "               {'value': counts_df[4], 'label': '4'}])\n",
    "\n",
    "pie_chart.add('Medium Quality', \n",
    "              [{'value': counts_df[5], 'label': '5'}, \n",
    "               {'value': counts_df[6], 'label': '6'}])\n",
    "\n",
    "pie_chart.add('High Quality', \n",
    "              [{'value': counts_df[7], 'label': '7'}, \n",
    "               {'value': counts_df[8], 'label': '8'}])\n",
    "\n",
    "display_chart(pie_chart)"
   ]
  },
  {
   "cell_type": "markdown",
   "metadata": {},
   "source": [
    "There are two circles. \n",
    "- Inner circle is the regual pie that shows the percentage of the Quality of the wine. \n",
    "- The outer circle shows the break up the each part. "
   ]
  },
  {
   "cell_type": "code",
   "execution_count": null,
   "metadata": {
    "collapsed": true
   },
   "outputs": [],
   "source": []
  },
  {
   "cell_type": "code",
   "execution_count": null,
   "metadata": {
    "collapsed": true
   },
   "outputs": [],
   "source": []
  }
 ],
 "metadata": {
  "kernelspec": {
   "display_name": "Python 3",
   "language": "python",
   "name": "python3"
  },
  "language_info": {
   "codemirror_mode": {
    "name": "ipython",
    "version": 3
   },
   "file_extension": ".py",
   "mimetype": "text/x-python",
   "name": "python",
   "nbconvert_exporter": "python",
   "pygments_lexer": "ipython3",
   "version": "3.11.6"
  }
 },
 "nbformat": 4,
 "nbformat_minor": 2
}
